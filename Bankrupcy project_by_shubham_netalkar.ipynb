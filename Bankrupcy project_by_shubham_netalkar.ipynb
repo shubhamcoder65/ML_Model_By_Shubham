{
 "cells": [
  {
   "cell_type": "markdown",
   "id": "26311f15",
   "metadata": {},
   "source": [
    "# Import basic libraries"
   ]
  },
  {
   "cell_type": "code",
   "execution_count": 1,
   "id": "47dfb716",
   "metadata": {},
   "outputs": [],
   "source": [
    "import pandas as pd\n",
    "import numpy as np\n",
    "import matplotlib.pyplot as plt\n",
    "import seaborn as sns\n",
    "import warnings\n",
    "warnings.filterwarnings('ignore')"
   ]
  },
  {
   "cell_type": "markdown",
   "id": "0fa7f7e6",
   "metadata": {},
   "source": [
    "# Import the dataset"
   ]
  },
  {
   "cell_type": "code",
   "execution_count": 2,
   "id": "97bb303d",
   "metadata": {},
   "outputs": [
    {
     "data": {
      "text/html": [
       "<div>\n",
       "<style scoped>\n",
       "    .dataframe tbody tr th:only-of-type {\n",
       "        vertical-align: middle;\n",
       "    }\n",
       "\n",
       "    .dataframe tbody tr th {\n",
       "        vertical-align: top;\n",
       "    }\n",
       "\n",
       "    .dataframe thead th {\n",
       "        text-align: right;\n",
       "    }\n",
       "</style>\n",
       "<table border=\"1\" class=\"dataframe\">\n",
       "  <thead>\n",
       "    <tr style=\"text-align: right;\">\n",
       "      <th></th>\n",
       "      <th>ROA(C) before interest and depreciation before interest</th>\n",
       "      <th>ROA(A) before interest and % after tax</th>\n",
       "      <th>ROA(B) before interest and depreciation after tax</th>\n",
       "      <th>Operating Gross Margin</th>\n",
       "      <th>Realized Sales Gross Margin</th>\n",
       "      <th>Operating Profit Rate</th>\n",
       "      <th>Pre-tax net Interest Rate</th>\n",
       "      <th>After-tax net Interest Rate</th>\n",
       "      <th>Non-industry income and expenditure/revenue</th>\n",
       "      <th>Continuous interest rate (after tax)</th>\n",
       "      <th>...</th>\n",
       "      <th>Net Income to Total Assets</th>\n",
       "      <th>Total assets to GNP price</th>\n",
       "      <th>No-credit Interval</th>\n",
       "      <th>Gross Profit to Sales</th>\n",
       "      <th>Net Income to Stockholder's Equity</th>\n",
       "      <th>Liability to Equity</th>\n",
       "      <th>Degree of Financial Leverage (DFL)</th>\n",
       "      <th>Interest Coverage Ratio (Interest expense to EBIT)</th>\n",
       "      <th>Equity to Liability</th>\n",
       "      <th>Bankrupt</th>\n",
       "    </tr>\n",
       "  </thead>\n",
       "  <tbody>\n",
       "    <tr>\n",
       "      <th>0</th>\n",
       "      <td>0.370594</td>\n",
       "      <td>0.424389</td>\n",
       "      <td>0.405750</td>\n",
       "      <td>0.601457</td>\n",
       "      <td>0.601457</td>\n",
       "      <td>0.998969</td>\n",
       "      <td>0.796887</td>\n",
       "      <td>0.808809</td>\n",
       "      <td>0.302646</td>\n",
       "      <td>0.780985</td>\n",
       "      <td>...</td>\n",
       "      <td>0.716845</td>\n",
       "      <td>0.009219</td>\n",
       "      <td>0.622879</td>\n",
       "      <td>0.601453</td>\n",
       "      <td>0.827890</td>\n",
       "      <td>0.290202</td>\n",
       "      <td>0.026601</td>\n",
       "      <td>0.564050</td>\n",
       "      <td>0.016469</td>\n",
       "      <td>1</td>\n",
       "    </tr>\n",
       "    <tr>\n",
       "      <th>1</th>\n",
       "      <td>0.464291</td>\n",
       "      <td>0.538214</td>\n",
       "      <td>0.516730</td>\n",
       "      <td>0.610235</td>\n",
       "      <td>0.610235</td>\n",
       "      <td>0.998946</td>\n",
       "      <td>0.797380</td>\n",
       "      <td>0.809301</td>\n",
       "      <td>0.303556</td>\n",
       "      <td>0.781506</td>\n",
       "      <td>...</td>\n",
       "      <td>0.795297</td>\n",
       "      <td>0.008323</td>\n",
       "      <td>0.623652</td>\n",
       "      <td>0.610237</td>\n",
       "      <td>0.839969</td>\n",
       "      <td>0.283846</td>\n",
       "      <td>0.264577</td>\n",
       "      <td>0.570175</td>\n",
       "      <td>0.020794</td>\n",
       "      <td>1</td>\n",
       "    </tr>\n",
       "    <tr>\n",
       "      <th>2</th>\n",
       "      <td>0.426071</td>\n",
       "      <td>0.499019</td>\n",
       "      <td>0.472295</td>\n",
       "      <td>0.601450</td>\n",
       "      <td>0.601364</td>\n",
       "      <td>0.998857</td>\n",
       "      <td>0.796403</td>\n",
       "      <td>0.808388</td>\n",
       "      <td>0.302035</td>\n",
       "      <td>0.780284</td>\n",
       "      <td>...</td>\n",
       "      <td>0.774670</td>\n",
       "      <td>0.040003</td>\n",
       "      <td>0.623841</td>\n",
       "      <td>0.601449</td>\n",
       "      <td>0.836774</td>\n",
       "      <td>0.290189</td>\n",
       "      <td>0.026555</td>\n",
       "      <td>0.563706</td>\n",
       "      <td>0.016474</td>\n",
       "      <td>1</td>\n",
       "    </tr>\n",
       "    <tr>\n",
       "      <th>3</th>\n",
       "      <td>0.399844</td>\n",
       "      <td>0.451265</td>\n",
       "      <td>0.457733</td>\n",
       "      <td>0.583541</td>\n",
       "      <td>0.583541</td>\n",
       "      <td>0.998700</td>\n",
       "      <td>0.796967</td>\n",
       "      <td>0.808966</td>\n",
       "      <td>0.303350</td>\n",
       "      <td>0.781241</td>\n",
       "      <td>...</td>\n",
       "      <td>0.739555</td>\n",
       "      <td>0.003252</td>\n",
       "      <td>0.622929</td>\n",
       "      <td>0.583538</td>\n",
       "      <td>0.834697</td>\n",
       "      <td>0.281721</td>\n",
       "      <td>0.026697</td>\n",
       "      <td>0.564663</td>\n",
       "      <td>0.023982</td>\n",
       "      <td>1</td>\n",
       "    </tr>\n",
       "    <tr>\n",
       "      <th>4</th>\n",
       "      <td>0.465022</td>\n",
       "      <td>0.538432</td>\n",
       "      <td>0.522298</td>\n",
       "      <td>0.598783</td>\n",
       "      <td>0.598783</td>\n",
       "      <td>0.998973</td>\n",
       "      <td>0.797366</td>\n",
       "      <td>0.809304</td>\n",
       "      <td>0.303475</td>\n",
       "      <td>0.781550</td>\n",
       "      <td>...</td>\n",
       "      <td>0.795016</td>\n",
       "      <td>0.003878</td>\n",
       "      <td>0.623521</td>\n",
       "      <td>0.598782</td>\n",
       "      <td>0.839973</td>\n",
       "      <td>0.278514</td>\n",
       "      <td>0.024752</td>\n",
       "      <td>0.575617</td>\n",
       "      <td>0.035490</td>\n",
       "      <td>1</td>\n",
       "    </tr>\n",
       "  </tbody>\n",
       "</table>\n",
       "<p>5 rows × 95 columns</p>\n",
       "</div>"
      ],
      "text/plain": [
       "    ROA(C) before interest and depreciation before interest  \\\n",
       "0                                           0.370594          \n",
       "1                                           0.464291          \n",
       "2                                           0.426071          \n",
       "3                                           0.399844          \n",
       "4                                           0.465022          \n",
       "\n",
       "    ROA(A) before interest and % after tax  \\\n",
       "0                                 0.424389   \n",
       "1                                 0.538214   \n",
       "2                                 0.499019   \n",
       "3                                 0.451265   \n",
       "4                                 0.538432   \n",
       "\n",
       "    ROA(B) before interest and depreciation after tax  \\\n",
       "0                                           0.405750    \n",
       "1                                           0.516730    \n",
       "2                                           0.472295    \n",
       "3                                           0.457733    \n",
       "4                                           0.522298    \n",
       "\n",
       "    Operating Gross Margin   Realized Sales Gross Margin  \\\n",
       "0                 0.601457                      0.601457   \n",
       "1                 0.610235                      0.610235   \n",
       "2                 0.601450                      0.601364   \n",
       "3                 0.583541                      0.583541   \n",
       "4                 0.598783                      0.598783   \n",
       "\n",
       "    Operating Profit Rate   Pre-tax net Interest Rate  \\\n",
       "0                0.998969                    0.796887   \n",
       "1                0.998946                    0.797380   \n",
       "2                0.998857                    0.796403   \n",
       "3                0.998700                    0.796967   \n",
       "4                0.998973                    0.797366   \n",
       "\n",
       "    After-tax net Interest Rate   Non-industry income and expenditure/revenue  \\\n",
       "0                      0.808809                                      0.302646   \n",
       "1                      0.809301                                      0.303556   \n",
       "2                      0.808388                                      0.302035   \n",
       "3                      0.808966                                      0.303350   \n",
       "4                      0.809304                                      0.303475   \n",
       "\n",
       "    Continuous interest rate (after tax)  ...   Net Income to Total Assets  \\\n",
       "0                               0.780985  ...                     0.716845   \n",
       "1                               0.781506  ...                     0.795297   \n",
       "2                               0.780284  ...                     0.774670   \n",
       "3                               0.781241  ...                     0.739555   \n",
       "4                               0.781550  ...                     0.795016   \n",
       "\n",
       "    Total assets to GNP price   No-credit Interval   Gross Profit to Sales  \\\n",
       "0                    0.009219             0.622879                0.601453   \n",
       "1                    0.008323             0.623652                0.610237   \n",
       "2                    0.040003             0.623841                0.601449   \n",
       "3                    0.003252             0.622929                0.583538   \n",
       "4                    0.003878             0.623521                0.598782   \n",
       "\n",
       "    Net Income to Stockholder's Equity   Liability to Equity  \\\n",
       "0                             0.827890              0.290202   \n",
       "1                             0.839969              0.283846   \n",
       "2                             0.836774              0.290189   \n",
       "3                             0.834697              0.281721   \n",
       "4                             0.839973              0.278514   \n",
       "\n",
       "    Degree of Financial Leverage (DFL)  \\\n",
       "0                             0.026601   \n",
       "1                             0.264577   \n",
       "2                             0.026555   \n",
       "3                             0.026697   \n",
       "4                             0.024752   \n",
       "\n",
       "    Interest Coverage Ratio (Interest expense to EBIT)   Equity to Liability  \\\n",
       "0                                           0.564050                0.016469   \n",
       "1                                           0.570175                0.020794   \n",
       "2                                           0.563706                0.016474   \n",
       "3                                           0.564663                0.023982   \n",
       "4                                           0.575617                0.035490   \n",
       "\n",
       "   Bankrupt  \n",
       "0         1  \n",
       "1         1  \n",
       "2         1  \n",
       "3         1  \n",
       "4         1  \n",
       "\n",
       "[5 rows x 95 columns]"
      ]
     },
     "execution_count": 2,
     "metadata": {},
     "output_type": "execute_result"
    }
   ],
   "source": [
    "df=pd.read_csv('BANKRUPTCY PREDICTION .csv') \n",
    "Eda_df=df.copy()  #copied the dataset in Eda_df variable for EDA\n",
    "model_df=df.copy() #copied the dataset in model_df variable for model_building\n",
    "Eda_df.head()"
   ]
  },
  {
   "cell_type": "markdown",
   "id": "03df7627",
   "metadata": {},
   "source": [
    "## Analasing the information"
   ]
  },
  {
   "cell_type": "code",
   "execution_count": 4,
   "id": "abd76620",
   "metadata": {},
   "outputs": [
    {
     "name": "stdout",
     "output_type": "stream",
     "text": [
      "<class 'pandas.core.frame.DataFrame'>\n",
      "RangeIndex: 6819 entries, 0 to 6818\n",
      "Data columns (total 95 columns):\n",
      " #   Column                                                    Non-Null Count  Dtype  \n",
      "---  ------                                                    --------------  -----  \n",
      " 0    ROA(C) before interest and depreciation before interest  6819 non-null   float64\n",
      " 1    ROA(A) before interest and % after tax                   6819 non-null   float64\n",
      " 2    ROA(B) before interest and depreciation after tax        6819 non-null   float64\n",
      " 3    Operating Gross Margin                                   6819 non-null   float64\n",
      " 4    Realized Sales Gross Margin                              6819 non-null   float64\n",
      " 5    Operating Profit Rate                                    6819 non-null   float64\n",
      " 6    Pre-tax net Interest Rate                                6819 non-null   float64\n",
      " 7    After-tax net Interest Rate                              6819 non-null   float64\n",
      " 8    Non-industry income and expenditure/revenue              6819 non-null   float64\n",
      " 9    Continuous interest rate (after tax)                     6819 non-null   float64\n",
      " 10   Operating Expense Rate                                   6819 non-null   float64\n",
      " 11   Research and development expense rate                    6819 non-null   float64\n",
      " 12   Cash flow rate                                           6819 non-null   float64\n",
      " 13   Interest-bearing debt interest rate                      6819 non-null   float64\n",
      " 14   Tax rate (A)                                             6819 non-null   float64\n",
      " 15   Net Value Per Share (B)                                  6819 non-null   float64\n",
      " 16   Net Value Per Share (A)                                  6819 non-null   float64\n",
      " 17   Net Value Per Share (C)                                  6819 non-null   float64\n",
      " 18   Persistent EPS in the Last Four Seasons                  6819 non-null   float64\n",
      " 19   Cash Flow Per Share                                      6819 non-null   float64\n",
      " 20   Revenue Per Share (Yuan �                                6819 non-null   float64\n",
      " 21   Operating Profit Per Share (Yuan �                       6819 non-null   float64\n",
      " 22   Per Share Net profit before tax (Yuan �                  6819 non-null   float64\n",
      " 23   Realized Sales Gross Profit Growth Rate                  6819 non-null   float64\n",
      " 24   Operating Profit Growth Rate                             6819 non-null   float64\n",
      " 25   After-tax Net Profit Growth Rate                         6819 non-null   float64\n",
      " 26   Regular Net Profit Growth Rate                           6819 non-null   float64\n",
      " 27   Continuous Net Profit Growth Rate                        6819 non-null   float64\n",
      " 28   Total Asset Growth Rate                                  6819 non-null   float64\n",
      " 29   Net Value Growth Rate                                    6819 non-null   float64\n",
      " 30   Total Asset Return Growth Rate Ratio                     6819 non-null   float64\n",
      " 31   Cash Reinvestment %                                      6819 non-null   float64\n",
      " 32   Current Ratio                                            6819 non-null   float64\n",
      " 33   Quick Ratio                                              6819 non-null   float64\n",
      " 34   Interest Expense Ratio                                   6819 non-null   float64\n",
      " 35   Total debt/Total net worth                               6819 non-null   float64\n",
      " 36   Debt ratio %                                             6819 non-null   float64\n",
      " 37   Net worth/Assets                                         6819 non-null   float64\n",
      " 38   Long-term fund suitability ratio (A)                     6819 non-null   float64\n",
      " 39   Borrowing dependency                                     6819 non-null   float64\n",
      " 40   Contingent liabilities/Net worth                         6819 non-null   float64\n",
      " 41   Operating profit/Paid-in capital                         6819 non-null   float64\n",
      " 42   Net profit before tax/Paid-in capital                    6819 non-null   float64\n",
      " 43   Inventory and accounts receivable/Net value              6819 non-null   float64\n",
      " 44   Total Asset Turnover                                     6819 non-null   float64\n",
      " 45   Accounts Receivable Turnover                             6819 non-null   float64\n",
      " 46   Average Collection Days                                  6819 non-null   float64\n",
      " 47   Inventory Turnover Rate (times)                          6819 non-null   float64\n",
      " 48   Fixed Assets Turnover Frequency                          6819 non-null   float64\n",
      " 49   Net Worth Turnover Rate (times)                          6819 non-null   float64\n",
      " 50   Revenue per person                                       6819 non-null   float64\n",
      " 51   Operating profit per person                              6819 non-null   float64\n",
      " 52   Allocation rate per person                               6819 non-null   float64\n",
      " 53   Working Capital to Total Assets                          6819 non-null   float64\n",
      " 54   Quick Assets/Total Assets                                6819 non-null   float64\n",
      " 55   Current Assets/Total Assets                              6819 non-null   float64\n",
      " 56   Cash/Total Assets                                        6819 non-null   float64\n",
      " 57   Quick Assets/Current Liability                           6819 non-null   float64\n",
      " 58   Cash/Current Liability                                   6819 non-null   float64\n",
      " 59   Current Liability to Assets                              6819 non-null   float64\n",
      " 60   Operating Funds to Liability                             6819 non-null   float64\n",
      " 61   Inventory/Working Capital                                6819 non-null   float64\n",
      " 62   Inventory/Current Liability                              6819 non-null   float64\n",
      " 63   Current Liabilities/Liability                            6819 non-null   float64\n",
      " 64   Working Capital/Equity                                   6819 non-null   float64\n",
      " 65   Current Liabilities/Equity                               6819 non-null   float64\n",
      " 66   Long-term Liability to Current Assets                    6819 non-null   float64\n",
      " 67   Retained Earnings to Total Assets                        6819 non-null   float64\n",
      " 68   Total income/Total expense                               6819 non-null   float64\n",
      " 69   Total expense/Assets                                     6819 non-null   float64\n",
      " 70   Current Asset Turnover Rate                              6819 non-null   float64\n",
      " 71   Quick Asset Turnover Rate                                6819 non-null   float64\n",
      " 72   Working capitcal Turnover Rate                           6819 non-null   float64\n",
      " 73   Cash Turnover Rate                                       6819 non-null   float64\n",
      " 74   Cash Flow to Sales                                       6819 non-null   float64\n",
      " 75   Fixed Assets to Assets                                   6819 non-null   float64\n",
      " 76   Current Liability to Liability                           6819 non-null   float64\n",
      " 77   Current Liability to Equity                              6819 non-null   float64\n",
      " 78   Equity to Long-term Liability                            6819 non-null   float64\n",
      " 79   Cash Flow to Total Assets                                6819 non-null   float64\n",
      " 80   Cash Flow to Liability                                   6819 non-null   float64\n",
      " 81   CFO to Assets                                            6819 non-null   float64\n",
      " 82   Cash Flow to Equity                                      6819 non-null   float64\n",
      " 83   Current Liability to Current Assets                      6819 non-null   float64\n",
      " 84   Liability-Assets Flag                                    6819 non-null   int64  \n",
      " 85   Net Income to Total Assets                               6819 non-null   float64\n",
      " 86   Total assets to GNP price                                6819 non-null   float64\n",
      " 87   No-credit Interval                                       6819 non-null   float64\n",
      " 88   Gross Profit to Sales                                    6819 non-null   float64\n",
      " 89   Net Income to Stockholder's Equity                       6819 non-null   float64\n",
      " 90   Liability to Equity                                      6819 non-null   float64\n",
      " 91   Degree of Financial Leverage (DFL)                       6819 non-null   float64\n",
      " 92   Interest Coverage Ratio (Interest expense to EBIT)       6819 non-null   float64\n",
      " 93   Equity to Liability                                      6819 non-null   float64\n",
      " 94  Bankrupt                                                  6819 non-null   int64  \n",
      "dtypes: float64(93), int64(2)\n",
      "memory usage: 4.9 MB\n"
     ]
    }
   ],
   "source": [
    "Eda_df.info()"
   ]
  },
  {
   "cell_type": "code",
   "execution_count": 5,
   "id": "bf226487",
   "metadata": {},
   "outputs": [
    {
     "data": {
      "text/html": [
       "<div>\n",
       "<style scoped>\n",
       "    .dataframe tbody tr th:only-of-type {\n",
       "        vertical-align: middle;\n",
       "    }\n",
       "\n",
       "    .dataframe tbody tr th {\n",
       "        vertical-align: top;\n",
       "    }\n",
       "\n",
       "    .dataframe thead th {\n",
       "        text-align: right;\n",
       "    }\n",
       "</style>\n",
       "<table border=\"1\" class=\"dataframe\">\n",
       "  <thead>\n",
       "    <tr style=\"text-align: right;\">\n",
       "      <th></th>\n",
       "      <th>ROA(C) before interest and depreciation before interest</th>\n",
       "      <th>ROA(A) before interest and % after tax</th>\n",
       "      <th>ROA(B) before interest and depreciation after tax</th>\n",
       "      <th>Operating Gross Margin</th>\n",
       "      <th>Realized Sales Gross Margin</th>\n",
       "      <th>Operating Profit Rate</th>\n",
       "      <th>Pre-tax net Interest Rate</th>\n",
       "      <th>After-tax net Interest Rate</th>\n",
       "      <th>Non-industry income and expenditure/revenue</th>\n",
       "      <th>Continuous interest rate (after tax)</th>\n",
       "      <th>...</th>\n",
       "      <th>Net Income to Total Assets</th>\n",
       "      <th>Total assets to GNP price</th>\n",
       "      <th>No-credit Interval</th>\n",
       "      <th>Gross Profit to Sales</th>\n",
       "      <th>Net Income to Stockholder's Equity</th>\n",
       "      <th>Liability to Equity</th>\n",
       "      <th>Degree of Financial Leverage (DFL)</th>\n",
       "      <th>Interest Coverage Ratio (Interest expense to EBIT)</th>\n",
       "      <th>Equity to Liability</th>\n",
       "      <th>Bankrupt</th>\n",
       "    </tr>\n",
       "  </thead>\n",
       "  <tbody>\n",
       "    <tr>\n",
       "      <th>count</th>\n",
       "      <td>6819.000000</td>\n",
       "      <td>6819.000000</td>\n",
       "      <td>6819.000000</td>\n",
       "      <td>6819.000000</td>\n",
       "      <td>6819.000000</td>\n",
       "      <td>6819.000000</td>\n",
       "      <td>6819.000000</td>\n",
       "      <td>6819.000000</td>\n",
       "      <td>6819.000000</td>\n",
       "      <td>6819.000000</td>\n",
       "      <td>...</td>\n",
       "      <td>6819.000000</td>\n",
       "      <td>6.819000e+03</td>\n",
       "      <td>6819.000000</td>\n",
       "      <td>6819.000000</td>\n",
       "      <td>6819.000000</td>\n",
       "      <td>6819.000000</td>\n",
       "      <td>6819.000000</td>\n",
       "      <td>6819.000000</td>\n",
       "      <td>6819.000000</td>\n",
       "      <td>6819.000000</td>\n",
       "    </tr>\n",
       "    <tr>\n",
       "      <th>mean</th>\n",
       "      <td>0.505180</td>\n",
       "      <td>0.558625</td>\n",
       "      <td>0.553589</td>\n",
       "      <td>0.607948</td>\n",
       "      <td>0.607929</td>\n",
       "      <td>0.998755</td>\n",
       "      <td>0.797190</td>\n",
       "      <td>0.809084</td>\n",
       "      <td>0.303623</td>\n",
       "      <td>0.781381</td>\n",
       "      <td>...</td>\n",
       "      <td>0.807760</td>\n",
       "      <td>1.862942e+07</td>\n",
       "      <td>0.623915</td>\n",
       "      <td>0.607946</td>\n",
       "      <td>0.840402</td>\n",
       "      <td>0.280365</td>\n",
       "      <td>0.027541</td>\n",
       "      <td>0.565358</td>\n",
       "      <td>0.047578</td>\n",
       "      <td>0.032263</td>\n",
       "    </tr>\n",
       "    <tr>\n",
       "      <th>std</th>\n",
       "      <td>0.060686</td>\n",
       "      <td>0.065620</td>\n",
       "      <td>0.061595</td>\n",
       "      <td>0.016934</td>\n",
       "      <td>0.016916</td>\n",
       "      <td>0.013010</td>\n",
       "      <td>0.012869</td>\n",
       "      <td>0.013601</td>\n",
       "      <td>0.011163</td>\n",
       "      <td>0.012679</td>\n",
       "      <td>...</td>\n",
       "      <td>0.040332</td>\n",
       "      <td>3.764501e+08</td>\n",
       "      <td>0.012290</td>\n",
       "      <td>0.016934</td>\n",
       "      <td>0.014523</td>\n",
       "      <td>0.014463</td>\n",
       "      <td>0.015668</td>\n",
       "      <td>0.013214</td>\n",
       "      <td>0.050014</td>\n",
       "      <td>0.176710</td>\n",
       "    </tr>\n",
       "    <tr>\n",
       "      <th>min</th>\n",
       "      <td>0.000000</td>\n",
       "      <td>0.000000</td>\n",
       "      <td>0.000000</td>\n",
       "      <td>0.000000</td>\n",
       "      <td>0.000000</td>\n",
       "      <td>0.000000</td>\n",
       "      <td>0.000000</td>\n",
       "      <td>0.000000</td>\n",
       "      <td>0.000000</td>\n",
       "      <td>0.000000</td>\n",
       "      <td>...</td>\n",
       "      <td>0.000000</td>\n",
       "      <td>0.000000e+00</td>\n",
       "      <td>0.000000</td>\n",
       "      <td>0.000000</td>\n",
       "      <td>0.000000</td>\n",
       "      <td>0.000000</td>\n",
       "      <td>0.000000</td>\n",
       "      <td>0.000000</td>\n",
       "      <td>0.000000</td>\n",
       "      <td>0.000000</td>\n",
       "    </tr>\n",
       "    <tr>\n",
       "      <th>25%</th>\n",
       "      <td>0.476527</td>\n",
       "      <td>0.535543</td>\n",
       "      <td>0.527277</td>\n",
       "      <td>0.600445</td>\n",
       "      <td>0.600434</td>\n",
       "      <td>0.998969</td>\n",
       "      <td>0.797386</td>\n",
       "      <td>0.809312</td>\n",
       "      <td>0.303466</td>\n",
       "      <td>0.781567</td>\n",
       "      <td>...</td>\n",
       "      <td>0.796750</td>\n",
       "      <td>9.036205e-04</td>\n",
       "      <td>0.623636</td>\n",
       "      <td>0.600443</td>\n",
       "      <td>0.840115</td>\n",
       "      <td>0.276944</td>\n",
       "      <td>0.026791</td>\n",
       "      <td>0.565158</td>\n",
       "      <td>0.024477</td>\n",
       "      <td>0.000000</td>\n",
       "    </tr>\n",
       "    <tr>\n",
       "      <th>50%</th>\n",
       "      <td>0.502706</td>\n",
       "      <td>0.559802</td>\n",
       "      <td>0.552278</td>\n",
       "      <td>0.605997</td>\n",
       "      <td>0.605976</td>\n",
       "      <td>0.999022</td>\n",
       "      <td>0.797464</td>\n",
       "      <td>0.809375</td>\n",
       "      <td>0.303525</td>\n",
       "      <td>0.781635</td>\n",
       "      <td>...</td>\n",
       "      <td>0.810619</td>\n",
       "      <td>2.085213e-03</td>\n",
       "      <td>0.623879</td>\n",
       "      <td>0.605998</td>\n",
       "      <td>0.841179</td>\n",
       "      <td>0.278778</td>\n",
       "      <td>0.026808</td>\n",
       "      <td>0.565252</td>\n",
       "      <td>0.033798</td>\n",
       "      <td>0.000000</td>\n",
       "    </tr>\n",
       "    <tr>\n",
       "      <th>75%</th>\n",
       "      <td>0.535563</td>\n",
       "      <td>0.589157</td>\n",
       "      <td>0.584105</td>\n",
       "      <td>0.613914</td>\n",
       "      <td>0.613842</td>\n",
       "      <td>0.999095</td>\n",
       "      <td>0.797579</td>\n",
       "      <td>0.809469</td>\n",
       "      <td>0.303585</td>\n",
       "      <td>0.781735</td>\n",
       "      <td>...</td>\n",
       "      <td>0.826455</td>\n",
       "      <td>5.269777e-03</td>\n",
       "      <td>0.624168</td>\n",
       "      <td>0.613913</td>\n",
       "      <td>0.842357</td>\n",
       "      <td>0.281449</td>\n",
       "      <td>0.026913</td>\n",
       "      <td>0.565725</td>\n",
       "      <td>0.052838</td>\n",
       "      <td>0.000000</td>\n",
       "    </tr>\n",
       "    <tr>\n",
       "      <th>max</th>\n",
       "      <td>1.000000</td>\n",
       "      <td>1.000000</td>\n",
       "      <td>1.000000</td>\n",
       "      <td>1.000000</td>\n",
       "      <td>1.000000</td>\n",
       "      <td>1.000000</td>\n",
       "      <td>1.000000</td>\n",
       "      <td>1.000000</td>\n",
       "      <td>1.000000</td>\n",
       "      <td>1.000000</td>\n",
       "      <td>...</td>\n",
       "      <td>1.000000</td>\n",
       "      <td>9.820000e+09</td>\n",
       "      <td>1.000000</td>\n",
       "      <td>1.000000</td>\n",
       "      <td>1.000000</td>\n",
       "      <td>1.000000</td>\n",
       "      <td>1.000000</td>\n",
       "      <td>1.000000</td>\n",
       "      <td>1.000000</td>\n",
       "      <td>1.000000</td>\n",
       "    </tr>\n",
       "  </tbody>\n",
       "</table>\n",
       "<p>8 rows × 95 columns</p>\n",
       "</div>"
      ],
      "text/plain": [
       "        ROA(C) before interest and depreciation before interest  \\\n",
       "count                                        6819.000000          \n",
       "mean                                            0.505180          \n",
       "std                                             0.060686          \n",
       "min                                             0.000000          \n",
       "25%                                             0.476527          \n",
       "50%                                             0.502706          \n",
       "75%                                             0.535563          \n",
       "max                                             1.000000          \n",
       "\n",
       "        ROA(A) before interest and % after tax  \\\n",
       "count                              6819.000000   \n",
       "mean                                  0.558625   \n",
       "std                                   0.065620   \n",
       "min                                   0.000000   \n",
       "25%                                   0.535543   \n",
       "50%                                   0.559802   \n",
       "75%                                   0.589157   \n",
       "max                                   1.000000   \n",
       "\n",
       "        ROA(B) before interest and depreciation after tax  \\\n",
       "count                                        6819.000000    \n",
       "mean                                            0.553589    \n",
       "std                                             0.061595    \n",
       "min                                             0.000000    \n",
       "25%                                             0.527277    \n",
       "50%                                             0.552278    \n",
       "75%                                             0.584105    \n",
       "max                                             1.000000    \n",
       "\n",
       "        Operating Gross Margin   Realized Sales Gross Margin  \\\n",
       "count              6819.000000                   6819.000000   \n",
       "mean                  0.607948                      0.607929   \n",
       "std                   0.016934                      0.016916   \n",
       "min                   0.000000                      0.000000   \n",
       "25%                   0.600445                      0.600434   \n",
       "50%                   0.605997                      0.605976   \n",
       "75%                   0.613914                      0.613842   \n",
       "max                   1.000000                      1.000000   \n",
       "\n",
       "        Operating Profit Rate   Pre-tax net Interest Rate  \\\n",
       "count             6819.000000                 6819.000000   \n",
       "mean                 0.998755                    0.797190   \n",
       "std                  0.013010                    0.012869   \n",
       "min                  0.000000                    0.000000   \n",
       "25%                  0.998969                    0.797386   \n",
       "50%                  0.999022                    0.797464   \n",
       "75%                  0.999095                    0.797579   \n",
       "max                  1.000000                    1.000000   \n",
       "\n",
       "        After-tax net Interest Rate  \\\n",
       "count                   6819.000000   \n",
       "mean                       0.809084   \n",
       "std                        0.013601   \n",
       "min                        0.000000   \n",
       "25%                        0.809312   \n",
       "50%                        0.809375   \n",
       "75%                        0.809469   \n",
       "max                        1.000000   \n",
       "\n",
       "        Non-industry income and expenditure/revenue  \\\n",
       "count                                   6819.000000   \n",
       "mean                                       0.303623   \n",
       "std                                        0.011163   \n",
       "min                                        0.000000   \n",
       "25%                                        0.303466   \n",
       "50%                                        0.303525   \n",
       "75%                                        0.303585   \n",
       "max                                        1.000000   \n",
       "\n",
       "        Continuous interest rate (after tax)  ...  \\\n",
       "count                            6819.000000  ...   \n",
       "mean                                0.781381  ...   \n",
       "std                                 0.012679  ...   \n",
       "min                                 0.000000  ...   \n",
       "25%                                 0.781567  ...   \n",
       "50%                                 0.781635  ...   \n",
       "75%                                 0.781735  ...   \n",
       "max                                 1.000000  ...   \n",
       "\n",
       "        Net Income to Total Assets   Total assets to GNP price  \\\n",
       "count                  6819.000000                6.819000e+03   \n",
       "mean                      0.807760                1.862942e+07   \n",
       "std                       0.040332                3.764501e+08   \n",
       "min                       0.000000                0.000000e+00   \n",
       "25%                       0.796750                9.036205e-04   \n",
       "50%                       0.810619                2.085213e-03   \n",
       "75%                       0.826455                5.269777e-03   \n",
       "max                       1.000000                9.820000e+09   \n",
       "\n",
       "        No-credit Interval   Gross Profit to Sales  \\\n",
       "count          6819.000000             6819.000000   \n",
       "mean              0.623915                0.607946   \n",
       "std               0.012290                0.016934   \n",
       "min               0.000000                0.000000   \n",
       "25%               0.623636                0.600443   \n",
       "50%               0.623879                0.605998   \n",
       "75%               0.624168                0.613913   \n",
       "max               1.000000                1.000000   \n",
       "\n",
       "        Net Income to Stockholder's Equity   Liability to Equity  \\\n",
       "count                          6819.000000           6819.000000   \n",
       "mean                              0.840402              0.280365   \n",
       "std                               0.014523              0.014463   \n",
       "min                               0.000000              0.000000   \n",
       "25%                               0.840115              0.276944   \n",
       "50%                               0.841179              0.278778   \n",
       "75%                               0.842357              0.281449   \n",
       "max                               1.000000              1.000000   \n",
       "\n",
       "        Degree of Financial Leverage (DFL)  \\\n",
       "count                          6819.000000   \n",
       "mean                              0.027541   \n",
       "std                               0.015668   \n",
       "min                               0.000000   \n",
       "25%                               0.026791   \n",
       "50%                               0.026808   \n",
       "75%                               0.026913   \n",
       "max                               1.000000   \n",
       "\n",
       "        Interest Coverage Ratio (Interest expense to EBIT)  \\\n",
       "count                                        6819.000000     \n",
       "mean                                            0.565358     \n",
       "std                                             0.013214     \n",
       "min                                             0.000000     \n",
       "25%                                             0.565158     \n",
       "50%                                             0.565252     \n",
       "75%                                             0.565725     \n",
       "max                                             1.000000     \n",
       "\n",
       "        Equity to Liability     Bankrupt  \n",
       "count           6819.000000  6819.000000  \n",
       "mean               0.047578     0.032263  \n",
       "std                0.050014     0.176710  \n",
       "min                0.000000     0.000000  \n",
       "25%                0.024477     0.000000  \n",
       "50%                0.033798     0.000000  \n",
       "75%                0.052838     0.000000  \n",
       "max                1.000000     1.000000  \n",
       "\n",
       "[8 rows x 95 columns]"
      ]
     },
     "execution_count": 5,
     "metadata": {},
     "output_type": "execute_result"
    }
   ],
   "source": [
    "Eda_df.describe()"
   ]
  },
  {
   "cell_type": "markdown",
   "id": "cd7bc050",
   "metadata": {},
   "source": [
    "## Checking the outliers"
   ]
  },
  {
   "cell_type": "code",
   "execution_count": 3,
   "id": "9d55472a",
   "metadata": {},
   "outputs": [],
   "source": [
    "def outlier(data):\n",
    "    list_outlier=[]\n",
    "    q1=np.percentile(data,25,interpolation='midpoint') # created a function to segeregate the outliers.\n",
    "    q2=np.percentile(data,75,interpolation='midpoint')\n",
    "    IQR=q2-q1\n",
    "    ll=q1-1.5*IQR\n",
    "    ul=q2+1.5*IQR\n",
    "    for x in data:\n",
    "        if(x>ul) or (x<ll):\n",
    "            list_outlier.append(x)\n",
    "    return list_outlier\n",
    "            "
   ]
  },
  {
   "cell_type": "code",
   "execution_count": 5,
   "id": "b9310762",
   "metadata": {},
   "outputs": [
    {
     "name": "stdout",
     "output_type": "stream",
     "text": [
      "The list of outliers in  ROA(C) before interest and depreciation before interest is [0.370594257, 0.066933164, 0.384926632, 0.345780724, 0.370106762, 0.370643007, 0.311314776, 0.364841808, 0.685077756, 0.63315946]\n",
      "The list of outliers in  ROA(A) before interest and % after tax is [0.424389446, 0.451264719, 0.415176625, 0.445704317, 0.057184911, 0.410488443, 0.393153075, 0.397187091, 0.448102922, 0.434692543]\n",
      "The list of outliers in  ROA(B) before interest and depreciation after tax is [0.405749772, 0.419133787, 0.436158253, 0.054820922, 0.429573318, 0.386583864, 0.404143691, 0.416135767, 0.424808609, 0.440173457]\n",
      "The list of outliers in  Operating Gross Margin is [0.63625881, 0.635718301, 0.636784906, 0.63760648, 0.665150838, 0.49424898, 0.555939117, 0.561344211, 0.656127935, 0.6440998]\n",
      "The list of outliers in  Realized Sales Gross Margin is [0.636251604, 0.635718301, 0.636784906, 0.63760648, 0.665150838, 0.49424898, 0.555939117, 0.561344211, 0.655183845, 0.6440998]\n",
      "The list of outliers in  Operating Profit Rate is [0.998699747, 0.998758098, 0.998684264, 0.998607771, 0.998704831, 0.998764222, 0.999345541, 0.999357673, 0.996294747, 0.99862649]\n",
      "The list of outliers in  Pre-tax net Interest Rate is [0.796887146, 0.796403369, 0.796966968, 0.796903193, 0.797011929, 0.797877249, 0.797046237, 0.797896063, 0.797084143, 0.79677924]\n",
      "The list of outliers in  After-tax net Interest Rate is [0.808809361, 0.808387521, 0.808965598, 0.808770562, 0.80896039, 0.809761103, 0.808992679, 0.8097986, 0.80903955, 0.80871666]\n",
      "The list of outliers in  Non-industry income and expenditure/revenue is [0.302646434, 0.302035177, 0.303115813, 0.302814415, 0.304319474, 0.303016717, 0.30325769, 0.303212493, 0.30440576, 0.30315666]\n",
      "The list of outliers in  Continuous interest rate (after tax) is [0.78098485, 0.780283936, 0.781240991, 0.781069061, 0.781180079, 0.78124857, 0.781277061, 0.780926604, 0.782308643, 0.780972078]\n",
      "The list of outliers in  Operating Expense Rate is []\n",
      "The list of outliers in  Research and development expense rate is [8930000000.0, 9190000000.0, 9390000000.0, 9710000000.0, 9390000000.0, 9020000000.0, 8630000000.0, 9120000000.0, 8950000000.0, 8660000000.0]\n",
      "The list of outliers in  Cash flow rate is [0.488241363, 0.495880828, 0.487182842, 0.485862627, 0.493434992, 0.485916308, 0.545963447, 0.502562425, 0.485617708, 0.485344271]\n",
      "The list of outliers in  Interest-bearing debt interest rate is [0.001063106, 0.001071107, 0.337732773, 0.001257126, 980000000.0, 710000000.0, 210000000.0, 490000000.0, 0.00520052, 0.001144114]\n",
      "The list of outliers in  Tax rate (A) is [0.544893208, 0.642980059, 0.772446604, 0.802409151, 0.707359044, 0.717481526, 0.922866687, 0.779228667, 0.812430408, 0.690454499]\n",
      "The list of outliers in  Net Value Per Share (B) is [0.120011799, 0.239475791, 0.248704227, 0.244363912, 0.126079811, 0.277695841, 0.246133749, 0.24364755, 0.257216299, 0.277190173]\n",
      "The list of outliers in  Net Value Per Share (A) is [0.120011799, 0.239475791, 0.248704227, 0.244363912, 0.126079811, 0.277695841, 0.246133749, 0.24364755, 0.257216299, 0.277190173]\n",
      "The list of outliers in  Net Value Per Share (C) is [0.120011799, 0.239475791, 0.248704227, 0.244363912, 0.126079811, 0.277695841, 0.246133749, 0.24364755, 0.257216299, 0.277190173]\n",
      "The list of outliers in  Persistent EPS in the Last Four Seasons is [0.169140588, 0.174435095, 0.161482462, 0.177838707, 0.084239387, 0.175002364, 0.276448899, 0.167155148, 0.167438782, 0.176987804]\n",
      "The list of outliers in  Cash Flow Per Share is [0.299780717, 0.295006013, 0.345617882, 0.301195445, 0.288286058, 0.390394002, 0.363478814, 0.346891137, 0.353823301, 0.364327651]\n",
      "The list of outliers in  Revenue Per Share (Yuan � is [0.239802169, 0.1910855, 0.113662144, 0.128605351, 0.111786681, 0.127909615, 0.155345826, 0.130647186, 0.107672762, 0.097478712]\n",
      "The list of outliers in  Operating Profit Per Share (Yuan � is [0.157886166, 0.149743506, 0.05594007, 0.153733409, 0.192899601, 0.15633906, 0.155524794, 0.154059116, 0.160084684, 0.176777135]\n",
      "The list of outliers in  Per Share Net profit before tax (Yuan � is [0.128944792, 0.067485125, 0.132258793, 0.131430293, 0.127212473, 0.089402727, 0.131580929, 0.251336898, 0.133313248, 0.121187015]\n",
      "The list of outliers in  Realized Sales Gross Profit Growth Rate is [0.022760097, 0.021564943, 0.022950998, 0.022460202, 0.024186734, 0.021670302, 0.024693065, 0.022422354, 0.023795356, 0.022307386]\n",
      "The list of outliers in  Operating Profit Growth Rate is [0.849688192, 0.848575123, 0.84676991, 0.84845506, 0.841390553, 0.848444308, 0.847568729, 0.848372971, 0.847497946, 0.848500187]\n",
      "The list of outliers in  After-tax Net Profit Growth Rate is [0.68858985, 0.688191178, 0.688702207, 0.68608465, 0.685482212, 0.668014051, 0.688311556, 0.68787041, 0.68837111, 0.69025278]\n",
      "The list of outliers in  Regular Net Profit Growth Rate is [0.68858985, 0.687989374, 0.688702207, 0.68608465, 0.685482212, 0.668014051, 0.688311556, 0.68787041, 0.68837111, 0.691359841]\n",
      "The list of outliers in  Continuous Net Profit Growth Rate is [0.217700369, 0.21729658, 0.216970995, 0.216710028, 0.217467625, 0.218563317, 0.21746054, 0.217693639, 0.217458204, 0.217404125]\n",
      "The list of outliers in  Total Asset Growth Rate is [608000000.0, 747000000.0, 723000000.0, 830000000.0, 654000000.0, 567000000.0, 751000000.0, 67600000.0, 652000000.0, 550000000.0]\n",
      "The list of outliers in  Net Value Growth Rate is [0.000326977, 0.000351782, 0.000351757, 0.000154243, 0.000350634, 0.000715317, 0.000344395, 0.00033107, 0.000805253, 0.000593091]\n",
      "The list of outliers in  Total Asset Return Growth Rate Ratio is [0.265442805, 0.256151557, 0.261875345, 0.265497976, 0.261669425, 0.265668151, 0.26245192, 0.265719436, 0.261558306, 0.262469792]\n",
      "The list of outliers in  Cash Reinvestment % is [0.327158079, 0.337384971, 0.335130956, 0.343588167, 0.356553407, 0.404744607, 0.41270817, 0.324950635, 0.344854886, 0.309582355]\n",
      "The list of outliers in  Current Ratio is [0.029896319, 0.075811308, 0.059831951, 0.032568385, 0.036225784, 0.030203962, 0.031666048, 0.049528083, 0.029782746, 0.048864122]\n",
      "The list of outliers in  Quick Ratio is [0.045854144, 0.050637128, 0.023991656, 0.025591806, 0.023660396, 0.026914972, 0.025715327, 0.043603327, 0.057682782, 0.030289325]\n",
      "The list of outliers in  Interest Expense Ratio is [0.635172463, 0.629631443, 0.636054986, 0.632188258, 0.632095793, 0.632377639, 0.640422734, 0.632451953, 0.63223723, 0.634338913]\n",
      "The list of outliers in  Total debt/Total net worth is [0.021265924, 0.021247686, 0.024441222, 0.025951358, 0.030692419, 0.021491168, 0.0192287, 0.022234381, 0.034784195, 0.126572374]\n",
      "The list of outliers in  Debt ratio % is [0.321371346, 0.293708619, 0.26782961, 0.27330169, 0.264866826, 0.271457508, 0.292590017, 0.30537836, 0.326934123, 0.331892251]\n",
      "The list of outliers in  Net worth/Assets is [0.678628654, 0.706291381, 0.73217039, 0.72669831, 0.735133174, 0.728542492, 0.707409983, 0.69462164, 0.673065877, 0.668107749]\n",
      "The list of outliers in  Long-term fund suitability ratio (A) is [0.010757111, 0.013722785, 0.017610897, 0.018013371, 0.010518902, 0.010034171, 0.013003544, 0.010573963, 0.011973708, 0.010678273]\n",
      "The list of outliers in  Borrowing dependency is [0.390284354, 0.387275964, 0.388057698, 0.392590414, 0.396528161, 0.388924428, 0.38553915, 0.392383517, 0.405124999, 0.262035237]\n",
      "The list of outliers in  Contingent liabilities/Net worth is [0.006478502, 0.006561982, 0.006623525, 0.008043897, 0.006383445, 0.008129814, 0.006969021, 0.006553451, 0.006498611, 0.006770986]\n",
      "The list of outliers in  Operating profit/Paid-in capital is [0.157856596, 0.149722344, 0.055889394, 0.153744687, 0.192868891, 0.156325826, 0.155552299, 0.15406224, 0.160087612, 0.17677952]\n",
      "The list of outliers in  Net profit before tax/Paid-in capital is [0.127939069, 0.072453058, 0.131234447, 0.130548224, 0.088296509, 0.131784933, 0.248819848, 0.135728829, 0.120119146, 0.225714501]\n",
      "The list of outliers in  Inventory and accounts receivable/Net value is [0.3514187, 0.417461681, 0.443327711, 0.417449623, 0.425324514, 0.422677222, 0.588075394, 0.423359141, 0.419810215, 0.41993079]\n",
      "The list of outliers in  Total Asset Turnover is [0.347826087, 0.389805097, 0.4017991, 0.43928036, 0.385307346, 0.419790105, 0.484257871, 0.386806597, 0.415292354, 0.373313343]\n",
      "The list of outliers in  Accounts Receivable Turnover is [0.002714739, 0.003258499, 0.003763708, 0.004112688, 0.003873272, 0.004051819, 0.002595031, 0.004364278, 0.003364004, 0.003019082]\n",
      "The list of outliers in  Average Collection Days is [0.016828838, 0.545300298, 0.02078756, 0.022645666, 0.016411277, 0.019428137, 0.018815031, 0.017424013, 0.016128633, 0.020093332]\n",
      "The list of outliers in  Inventory Turnover Rate (times) is []\n",
      "The list of outliers in  Fixed Assets Turnover Frequency is [719000000.0, 2650000000.0, 9150000000.0, 9300000000.0, 9460000000.0, 5600000000.0, 9000000000.0, 6200000000.0, 953000000.0, 4840000000.0]\n",
      "The list of outliers in  Net Worth Turnover Rate (times) is [0.076612903, 0.091935484, 0.081129032, 0.077903226, 0.161612903, 0.081290323, 0.098225806, 0.080645161, 0.22, 0.205483871]\n",
      "The list of outliers in  Revenue per person is [0.104918996, 0.110150845, 0.123743078, 0.199726804, 0.114733487, 0.086644243, 0.129668199, 0.135546318, 0.079591087, 0.191116725]\n",
      "The list of outliers in  Operating profit per person is [0.377569481, 0.41638588, 0.370208724, 0.368761448, 0.424142376, 0.452432102, 0.418963841, 0.435969336, 0.441543611, 0.425906244]\n",
      "The list of outliers in  Allocation rate per person is [0.037135302, 0.141016312, 0.03282877, 0.038449156, 0.033990475, 0.066652217, 0.031878627, 0.034779773, 0.064950927, 0.05942353]\n",
      "The list of outliers in  Working Capital to Total Assets is [0.625403078, 0.652424902, 0.980969561, 0.97922758, 0.968401965, 0.96944433, 0.965272227, 0.65373181, 0.494209927, 0.653618507]\n",
      "The list of outliers in  Quick Assets/Total Assets is [0.98894397, 1.0]\n",
      "The list of outliers in  Current Assets/Total Assets is []\n",
      "The list of outliers in  Cash/Total Assets is [0.521109465, 0.40027821, 0.416232493, 0.419568479, 0.373074427, 0.49647515, 0.410594555, 0.424042325, 0.820797648, 0.391322038]\n",
      "The list of outliers in  Quick Assets/Current Liability is [0.070721513, 0.051416429, 0.028792654, 0.026023783, 0.028426058, 0.040207207, 0.045745376, 0.058918842, 0.024563965, 0.030951015]\n",
      "The list of outliers in  Cash/Current Liability is [5340000000.0, 0.032077489, 0.029452163, 9650000000.0, 0.040370197, 0.051379578, 5900000000.0, 0.040505016, 0.095449179, 6870000000.0]\n",
      "The list of outliers in  Current Liability to Assets is [0.252297963, 0.239179009, 0.225946381, 0.228753996, 0.225681006, 0.231800744, 0.23712759, 0.22383634, 0.220373292, 0.220210063]\n",
      "The list of outliers in  Operating Funds to Liability is [0.437755886, 0.40517924, 0.306489754, 0.406086227, 0.402606433, 0.391725106, 0.391483322, 0.392019976, 0.40266442, 0.392599735]\n",
      "The list of outliers in  Inventory/Working Capital is [0.289641576, 0.287912653, 0.285100706, 0.278908415, 0.279968047, 0.278048746, 0.273255485, 0.279715691, 0.276034241, 0.278683137]\n",
      "The list of outliers in  Inventory/Current Liability is [0.025541754, 0.038873429, 0.023263512, 0.023640527, 0.037774338, 0.024000112, 0.024510419, 0.026299188, 0.03885261, 0.027802434]\n",
      "The list of outliers in  Current Liabilities/Liability is [0.112001616, 0.098632712, 0.138818092, 0.080031801, 0.133097609, 0.077263454, 0.153873862, 0.11031331, 0.015892348, 0.139047413]\n",
      "The list of outliers in  Working Capital/Equity is [0.721274552, 0.725201639, 0.724531115, 0.718087877, 0.724543977, 0.7145055, 0.762552185, 0.719909603, 0.725747156, 0.721136197]\n",
      "The list of outliers in  Current Liabilities/Equity is [0.339077007, 0.346198231, 0.342348548, 0.338921756, 0.338820377, 0.351680525, 0.241052684, 0.346707013, 0.339442082, 0.341187665]\n",
      "The list of outliers in  Long-term Liability to Current Assets is [0.025592368, 0.023946819, 0.064126528, 0.022682029, 0.023430744, 0.046858222, 0.027677719, 0.101679047, 0.031533546, 0.02285184]\n",
      "The list of outliers in  Retained Earnings to Total Assets is [0.903224771, 0.909903362, 0.906902159, 0.903041267, 0.908947698, 0.868460717, 0.908330179, 0.841966378, 0.903544494, 0.890634803]\n",
      "The list of outliers in  Total income/Total expense is [0.001831359, 0.003076304, 0.003279774, 0.0029817, 0.003550123, 0.002903296, 0.001832781, 0.003280918, 0.002911753, 0.003660156]\n",
      "The list of outliers in  Total expense/Assets is [0.092802307, 0.087295963, 0.084879324, 0.203706253, 0.06889951, 0.099098533, 0.083284302, 0.094118698, 0.070549856, 0.17612906]\n",
      "The list of outliers in  Current Asset Turnover Rate is [701000000.0, 0.001791094, 8140000000.0, 6680000000.0, 8010000000.0, 7290000000.0, 5110000000.0, 4760000000.0, 9230000000.0, 8710000000.0]\n",
      "The list of outliers in  Quick Asset Turnover Rate is []\n",
      "The list of outliers in  Working capitcal Turnover Rate is [0.593830504, 0.594501851, 0.593788636, 0.593828362, 0.594137019, 0.59378668, 0.593799247, 0.593815441, 0.593809744, 0.593672279]\n",
      "The list of outliers in  Cash Turnover Rate is []\n",
      "The list of outliers in  Cash Flow to Sales is [0.67151917, 0.671522374, 0.671499813, 0.671517088, 0.671467155, 0.671654883, 0.671333084, 0.671626241, 0.671642023, 0.671529599]\n",
      "The list of outliers in  Fixed Assets to Assets is [0.899222569, 0.82421307, 0.853738288, 0.877125471, 0.859419657, 0.843942639, 0.839608614, 0.815887097, 0.808664906, 0.810374723]\n",
      "The list of outliers in  Current Liability to Liability is [0.112001616, 0.098632712, 0.138818092, 0.080031801, 0.133097609, 0.077263454, 0.153873862, 0.11031331, 0.015892348, 0.139047413]\n",
      "The list of outliers in  Current Liability to Equity is [0.339077007, 0.346198231, 0.342348548, 0.338921756, 0.338820377, 0.351680525, 0.241052684, 0.346707013, 0.339442082, 0.341187665]\n",
      "The list of outliers in  Equity to Long-term Liability is [0.126549488, 0.130978633, 0.126893762, 0.149144335, 0.025851085, 0.126718359, 0.134644988, 0.133713867, 0.127674322, 0.126510422]\n",
      "The list of outliers in  Cash Flow to Total Assets is [0.579039312, 0.567583388, 0.751791438, 0.521533506, 0.709317344, 0.716178938, 0.581181786, 0.511703152, 0.578398284, 0.728609736]\n",
      "The list of outliers in  Cash Flow to Liability is [0.490901627, 0.446327653, 0.429132393, 0.488731943, 0.425044523, 0.478523116, 0.477207419, 0.439058395, 0.442183574, 0.389782005]\n",
      "The list of outliers in  CFO to Assets is [0.451014774, 0.469170925, 0.399980625, 0.737840621, 0.38824087, 0.476330048, 0.731933141, 0.800405709, 0.451275773, 0.205248225]\n",
      "The list of outliers in  Cash Flow to Equity is [0.302382255, 0.302722319, 0.24044999, 0.305677468, 0.329372034, 0.298364556, 0.326651794, 0.3250499, 0.300067791, 0.327319811]\n",
      "The list of outliers in  Current Liability to Current Assets is [0.118250477, 0.099521933, 0.12488271, 0.082666072, 0.071173171, 0.086458323, 0.09480622, 0.083357788, 0.07886108, 0.078173593]\n"
     ]
    },
    {
     "name": "stdout",
     "output_type": "stream",
     "text": [
      "The list of outliers in  Liability-Assets Flag is [1, 1, 1, 1, 1, 1, 1, 1]\n",
      "The list of outliers in  Net Income to Total Assets is [0.716845343, 0.739554525, 0.710420495, 0.736619098, 0.750430839, 0.525650952, 0.746585997, 0.719703518, 0.874451641, 0.707755813]\n",
      "The list of outliers in  Total assets to GNP price is [0.040002853, 0.018371872, 0.076972257, 0.013610655, 0.014039384, 0.018753173, 0.015252473, 0.080005795, 0.013697704, 0.012883194]\n",
      "The list of outliers in  No-credit Interval is [0.622604643, 0.62187648, 0.622494423, 0.617349282, 0.622323239, 0.626620676, 0.621901157, 0.62612538, 0.625934738, 0.621692592]\n",
      "The list of outliers in  Gross Profit to Sales is [0.636255941, 0.635717638, 0.636780633, 0.637605477, 0.665149207, 0.494249992, 0.555935806, 0.561344296, 0.656124039, 0.64409563]\n",
      "The list of outliers in  Net Income to Stockholder's Equity is [0.827890214, 0.834697107, 0.829938957, 0.829979764, 0.831976032, 1.0, 0.831081516, 0.835834418, 0.833423653, 0.836133758]\n",
      "The list of outliers in  Liability to Equity is [0.290201893, 0.290188533, 0.292504124, 0.293599485, 0.297038121, 0.290364861, 0.288724027, 0.290903714, 0.300005451, 0.182790359]\n",
      "The list of outliers in  Degree of Financial Leverage (DFL) is [0.026600631, 0.26457682, 0.02655472, 0.024751848, 0.027243015, 0.027390858, 0.027479725, 0.02499974, 0.027637049, 0.02756541]\n",
      "The list of outliers in  Interest Coverage Ratio (Interest expense to EBIT) is [0.564050112, 0.570174946, 0.563706076, 0.575616645, 0.56420012, 0.566667622, 0.566982649, 0.567146327, 0.577445287, 0.567398598]\n",
      "The list of outliers in  Equity to Liability is [0.104842365, 0.134800925, 0.112641996, 0.161061288, 0.106285828, 0.159428151, 0.107648946, 0.133399973, 0.111636392, 0.110523469]\n",
      "The list of outliers in Bankrupt is [1, 1, 1, 1, 1, 1, 1, 1, 1, 1]\n"
     ]
    }
   ],
   "source": [
    "column=Eda_df.columns\n",
    "for i in column:\n",
    "    print(f\"The list of outliers in {i} is {outlier(Eda_df[i])[:10]}\") # this will give the list of outliers"
   ]
  },
  {
   "cell_type": "code",
   "execution_count": 77,
   "id": "5ec21f94",
   "metadata": {},
   "outputs": [
    {
     "data": {
      "text/plain": [
       "0    6599\n",
       "1     220\n",
       "Name: Bankrupt, dtype: int64"
      ]
     },
     "execution_count": 77,
     "metadata": {},
     "output_type": "execute_result"
    }
   ],
   "source": [
    "Eda_df['Bankrupt'].value_counts()"
   ]
  },
  {
   "cell_type": "markdown",
   "id": "451365ff",
   "metadata": {},
   "source": [
    "## Checking the multicollinearity"
   ]
  },
  {
   "cell_type": "code",
   "execution_count": 78,
   "id": "81900e3c",
   "metadata": {},
   "outputs": [],
   "source": [
    "from statsmodels.stats.outliers_influence import variance_inflation_factor"
   ]
  },
  {
   "cell_type": "code",
   "execution_count": 81,
   "id": "b1a41996",
   "metadata": {},
   "outputs": [],
   "source": [
    "Vi_data=pd.DataFrame()    #creating a new DataFrame to showcase the multicollinearity\n",
    "Vi_data['features']=X.columns\n",
    "Vi_data[\"VIF\"]=[variance_inflation_factor(X,i) for i in range(Vi_data['features'].shape[0])]\n",
    "Vi_data[\"Multicolinearity\"]=['Yes' if Vi_data['VIF'][i]>5 else 'No' for i in range(Vi_data['features'].shape[0]) ]"
   ]
  },
  {
   "cell_type": "code",
   "execution_count": 82,
   "id": "a6825ede",
   "metadata": {},
   "outputs": [
    {
     "data": {
      "text/html": [
       "<div>\n",
       "<style scoped>\n",
       "    .dataframe tbody tr th:only-of-type {\n",
       "        vertical-align: middle;\n",
       "    }\n",
       "\n",
       "    .dataframe tbody tr th {\n",
       "        vertical-align: top;\n",
       "    }\n",
       "\n",
       "    .dataframe thead th {\n",
       "        text-align: right;\n",
       "    }\n",
       "</style>\n",
       "<table border=\"1\" class=\"dataframe\">\n",
       "  <thead>\n",
       "    <tr style=\"text-align: right;\">\n",
       "      <th></th>\n",
       "      <th>features</th>\n",
       "      <th>VIF</th>\n",
       "      <th>Multicolinearity</th>\n",
       "    </tr>\n",
       "  </thead>\n",
       "  <tbody>\n",
       "    <tr>\n",
       "      <th>0</th>\n",
       "      <td>ROA(C) before interest and depreciation befor...</td>\n",
       "      <td>6.915383e+01</td>\n",
       "      <td>Yes</td>\n",
       "    </tr>\n",
       "    <tr>\n",
       "      <th>1</th>\n",
       "      <td>ROA(A) before interest and % after tax</td>\n",
       "      <td>4.386159e+01</td>\n",
       "      <td>Yes</td>\n",
       "    </tr>\n",
       "    <tr>\n",
       "      <th>2</th>\n",
       "      <td>ROA(B) before interest and depreciation after...</td>\n",
       "      <td>1.029166e+02</td>\n",
       "      <td>Yes</td>\n",
       "    </tr>\n",
       "    <tr>\n",
       "      <th>3</th>\n",
       "      <td>Operating Gross Margin</td>\n",
       "      <td>6.005053e+07</td>\n",
       "      <td>Yes</td>\n",
       "    </tr>\n",
       "    <tr>\n",
       "      <th>4</th>\n",
       "      <td>Realized Sales Gross Margin</td>\n",
       "      <td>1.076344e+03</td>\n",
       "      <td>Yes</td>\n",
       "    </tr>\n",
       "    <tr>\n",
       "      <th>...</th>\n",
       "      <td>...</td>\n",
       "      <td>...</td>\n",
       "      <td>...</td>\n",
       "    </tr>\n",
       "    <tr>\n",
       "      <th>89</th>\n",
       "      <td>Net Income to Stockholder's Equity</td>\n",
       "      <td>8.850001e+00</td>\n",
       "      <td>Yes</td>\n",
       "    </tr>\n",
       "    <tr>\n",
       "      <th>90</th>\n",
       "      <td>Liability to Equity</td>\n",
       "      <td>4.703544e+02</td>\n",
       "      <td>Yes</td>\n",
       "    </tr>\n",
       "    <tr>\n",
       "      <th>91</th>\n",
       "      <td>Degree of Financial Leverage (DFL)</td>\n",
       "      <td>1.004914e+00</td>\n",
       "      <td>No</td>\n",
       "    </tr>\n",
       "    <tr>\n",
       "      <th>92</th>\n",
       "      <td>Interest Coverage Ratio (Interest expense to ...</td>\n",
       "      <td>1.006982e+00</td>\n",
       "      <td>No</td>\n",
       "    </tr>\n",
       "    <tr>\n",
       "      <th>93</th>\n",
       "      <td>Equity to Liability</td>\n",
       "      <td>3.149516e+00</td>\n",
       "      <td>No</td>\n",
       "    </tr>\n",
       "  </tbody>\n",
       "</table>\n",
       "<p>94 rows × 3 columns</p>\n",
       "</div>"
      ],
      "text/plain": [
       "                                             features           VIF  \\\n",
       "0    ROA(C) before interest and depreciation befor...  6.915383e+01   \n",
       "1              ROA(A) before interest and % after tax  4.386159e+01   \n",
       "2    ROA(B) before interest and depreciation after...  1.029166e+02   \n",
       "3                              Operating Gross Margin  6.005053e+07   \n",
       "4                         Realized Sales Gross Margin  1.076344e+03   \n",
       "..                                                ...           ...   \n",
       "89                 Net Income to Stockholder's Equity  8.850001e+00   \n",
       "90                                Liability to Equity  4.703544e+02   \n",
       "91                 Degree of Financial Leverage (DFL)  1.004914e+00   \n",
       "92   Interest Coverage Ratio (Interest expense to ...  1.006982e+00   \n",
       "93                                Equity to Liability  3.149516e+00   \n",
       "\n",
       "   Multicolinearity  \n",
       "0               Yes  \n",
       "1               Yes  \n",
       "2               Yes  \n",
       "3               Yes  \n",
       "4               Yes  \n",
       "..              ...  \n",
       "89              Yes  \n",
       "90              Yes  \n",
       "91               No  \n",
       "92               No  \n",
       "93               No  \n",
       "\n",
       "[94 rows x 3 columns]"
      ]
     },
     "execution_count": 82,
     "metadata": {},
     "output_type": "execute_result"
    }
   ],
   "source": [
    "multicollinear_columns=[]\n",
    "for i in range(Vi_data['features'].shape[0]):\n",
    "    if Vi_data[\"Multicolinearity\"][i]=='Yes':\n",
    "        multicollinear_columns.append(Vi_data[\"features\"][i])\n",
    "        \n",
    "Vi_data   "
   ]
  },
  {
   "cell_type": "markdown",
   "id": "1cbd042d",
   "metadata": {},
   "source": [
    "# observations\n",
    "## below features require scaling\n",
    "Operating Expense Rate \n",
    "Research and development expense rate\n",
    "Interest-bearing debt interest rate \\\n",
    "Net Value Growth Rate\n",
    "nventory Turnover Rate\n",
    "Fixed Assets Turnover\n",
    "Revenue Per Share (Yuan �\n",
    "Total Asset Growth Rate\n",
    "Net Value Growth Rate\n",
    "Current Ratio                  \n",
    "Quick Ratio colums\n",
    "Total debt/Total net worth\n",
    "Accounts Receivable Turnover                \n",
    "Average Collection Day\n",
    "Inventory Turnover\n",
    "Revenue per person                   \n",
    "Allocation rate per person                   \n",
    "Quick Assets/Current Liability                   \n",
    "Cash/Current Liability                   \n",
    "Inventory/Current Liability\n",
    "Long-term Liability to Current Assets                   \n",
    "Current Asset Turnover Rate                   \n",
    "Quick Asset Turnover Rate                   \n",
    "Cash Turnover Rate                   \n",
    "Fixed Assets to Assets                   \n",
    "Liability-Assets                  \n",
    "Total assets to GNP price                   "
   ]
  },
  {
   "cell_type": "code",
   "execution_count": 83,
   "id": "cc4d8751",
   "metadata": {},
   "outputs": [
    {
     "data": {
      "text/plain": [
       "(6819, 48)"
      ]
     },
     "execution_count": 83,
     "metadata": {},
     "output_type": "execute_result"
    }
   ],
   "source": [
    "X_new=X.copy()\n",
    "#copied the dataset from X variable to X_new variable so that the correlated columns can be removed from\n",
    "    \n",
    "    \n",
    "for i in multicollinear_columns:\n",
    "    X_new=X_new.drop(columns=i)\n",
    "X_new.shape"
   ]
  },
  {
   "cell_type": "markdown",
   "id": "4f10937d",
   "metadata": {},
   "source": [
    "## Importing libraries for model building"
   ]
  },
  {
   "cell_type": "code",
   "execution_count": 23,
   "id": "110225b9",
   "metadata": {},
   "outputs": [],
   "source": [
    "#     for i in column:\n",
    "#     print(f\"The Min unique values in {i} colums are: {np.min(Eda_df[i].unique())}\")\n",
    "#     print(f\"The Maxx unique values in {i} colums are: {np.max(Eda_df[i].unique())}\")\n",
    "#     print(f\"The Min unique values in {i} colums are: {np.sort(Eda_df[i].unique()[0:10])}\")\n",
    "#     print(\"*\"*50)"
   ]
  },
  {
   "cell_type": "code",
   "execution_count": 86,
   "id": "90b9bbba",
   "metadata": {},
   "outputs": [],
   "source": [
    "from sklearn.preprocessing import StandardScaler\n",
    "from sklearn.model_selection import train_test_split\n",
    "from sklearn.linear_model import LogisticRegression\n",
    "from sklearn.metrics import roc_curve,auc,plot_confusion_matrix,f1_score,accuracy_score,classification_report,confusion_matrix\n",
    "from sklearn.decomposition import PCA\n",
    "from sklearn.ensemble import RandomForestClassifier\n",
    "from sklearn.tree import DecisionTreeClassifier\n",
    "import warnings\n",
    "warnings.filterwarnings('ignore')"
   ]
  },
  {
   "cell_type": "code",
   "execution_count": 6,
   "id": "418a0d6c",
   "metadata": {},
   "outputs": [],
   "source": [
    "X=model_df.drop(columns='Bankrupt') ##Predicter Variable\n",
    "y=model_df['Bankrupt']  ##Target variable"
   ]
  },
  {
   "cell_type": "markdown",
   "id": "3410604b",
   "metadata": {},
   "source": [
    "## Logistic regression model without VIF"
   ]
  },
  {
   "cell_type": "code",
   "execution_count": 90,
   "id": "6b4474bc",
   "metadata": {},
   "outputs": [],
   "source": [
    "X_train,X_test,y_train,y_test=train_test_split(X,y,test_size=0.3)"
   ]
  },
  {
   "cell_type": "code",
   "execution_count": 91,
   "id": "178e3592",
   "metadata": {},
   "outputs": [],
   "source": [
    "lr=LogisticRegression()\n"
   ]
  },
  {
   "cell_type": "code",
   "execution_count": 92,
   "id": "010b8bfc",
   "metadata": {},
   "outputs": [],
   "source": [
    "ss=StandardScaler()\n",
    "X_train_scaled=ss.fit_transform(X_train)\n",
    "X_test_scaled=ss.transform(X_test)"
   ]
  },
  {
   "cell_type": "code",
   "execution_count": 94,
   "id": "80157e4d",
   "metadata": {},
   "outputs": [
    {
     "data": {
      "text/plain": [
       "0.9672531769305963"
      ]
     },
     "execution_count": 94,
     "metadata": {},
     "output_type": "execute_result"
    }
   ],
   "source": [
    "lr.fit(X_train_scaled,y_train)\n",
    "y_predict=lr.predict(X_test_scaled)\n",
    "accuracy_score(y_test,y_predict)"
   ]
  },
  {
   "cell_type": "code",
   "execution_count": 95,
   "id": "f8b79c43",
   "metadata": {},
   "outputs": [
    {
     "data": {
      "image/png": "[encoded data removed]",
      "text/plain": [
       "<Figure size 640x480 with 2 Axes>"
      ]
     },
     "metadata": {},
     "output_type": "display_data"
    }
   ],
   "source": [
    "conf_matrix=plot_confusion_matrix(lr,X_test_scaled,y_test)\n",
    "conf_matrix\n",
    "plt.show()"
   ]
  },
  {
   "cell_type": "code",
   "execution_count": 97,
   "id": "85a89d6c",
   "metadata": {},
   "outputs": [
    {
     "name": "stdout",
     "output_type": "stream",
     "text": [
      "              precision    recall  f1-score   support\n",
      "\n",
      "           0       0.97      0.99      0.98      1973\n",
      "           1       0.60      0.25      0.35        73\n",
      "\n",
      "    accuracy                           0.97      2046\n",
      "   macro avg       0.79      0.62      0.67      2046\n",
      "weighted avg       0.96      0.97      0.96      2046\n",
      "\n"
     ]
    }
   ],
   "source": [
    "print(classification_report(y_test,y_predict))"
   ]
  },
  {
   "cell_type": "code",
   "execution_count": 103,
   "id": "b0d0a76f",
   "metadata": {},
   "outputs": [
    {
     "name": "stdout",
     "output_type": "stream",
     "text": [
      "0.866804601851016\n"
     ]
    }
   ],
   "source": [
    "y_pred_proba = lr.predict_proba(X_test_scaled)\n",
    "fpr_dt,tpr_dt,threshold = roc_curve(y_test,y_pred_proba[:,1])    #y_pred_proba\n",
    "roc_auc_dt = auc(fpr_dt,tpr_dt)\n",
    "print(roc_auc_dt)"
   ]
  },
  {
   "cell_type": "markdown",
   "id": "5b72bac0",
   "metadata": {},
   "source": [
    "## logistic regression with VIF"
   ]
  },
  {
   "cell_type": "code",
   "execution_count": 99,
   "id": "4e6cd19d",
   "metadata": {},
   "outputs": [],
   "source": [
    "X_trainN,X_testN,y_trainN,y_testN=train_test_split(X_new,y,test_size=0.3)"
   ]
  },
  {
   "cell_type": "code",
   "execution_count": 100,
   "id": "de1b9378",
   "metadata": {},
   "outputs": [],
   "source": [
    "ss=StandardScaler()\n",
    "X_train_scaledN=ss.fit_transform(X_trainN)\n",
    "X_test_scaledN=ss.transform(X_testN)"
   ]
  },
  {
   "cell_type": "code",
   "execution_count": 101,
   "id": "5961214e",
   "metadata": {},
   "outputs": [
    {
     "data": {
      "text/plain": [
       "LogisticRegression()"
      ]
     },
     "execution_count": 101,
     "metadata": {},
     "output_type": "execute_result"
    }
   ],
   "source": [
    "lr1=LogisticRegression()\n",
    "lr1.fit(X_train_scaledN,y_trainN)"
   ]
  },
  {
   "cell_type": "code",
   "execution_count": 102,
   "id": "2e7319c7",
   "metadata": {},
   "outputs": [
    {
     "data": {
      "text/plain": [
       "0.9667644183773216"
      ]
     },
     "execution_count": 102,
     "metadata": {},
     "output_type": "execute_result"
    }
   ],
   "source": [
    "y_predict_testN=lr1.predict(X_test_scaledN)\n",
    "accuracy_score(y_testN,y_predict_testN)"
   ]
  },
  {
   "cell_type": "code",
   "execution_count": 38,
   "id": "60b0cd04",
   "metadata": {},
   "outputs": [
    {
     "data": {
      "image/png": "[encoded data removed]",
      "text/plain": [
       "<Figure size 640x480 with 2 Axes>"
      ]
     },
     "metadata": {},
     "output_type": "display_data"
    }
   ],
   "source": [
    "conf_matrix=plot_confusion_matrix(lr1,X_test_scaledN,y_testN)\n",
    "conf_matrix\n",
    "plt.show()"
   ]
  },
  {
   "cell_type": "code",
   "execution_count": 39,
   "id": "75cc1c14",
   "metadata": {
    "scrolled": false
   },
   "outputs": [
    {
     "name": "stdout",
     "output_type": "stream",
     "text": [
      "              precision    recall  f1-score   support\n",
      "\n",
      "           0       0.97      0.99      0.98      1978\n",
      "           1       0.43      0.13      0.20        68\n",
      "\n",
      "    accuracy                           0.97      2046\n",
      "   macro avg       0.70      0.56      0.59      2046\n",
      "weighted avg       0.95      0.97      0.96      2046\n",
      "\n"
     ]
    }
   ],
   "source": [
    "print(classification_report(y_testN,y_predict_testN))"
   ]
  },
  {
   "cell_type": "code",
   "execution_count": 105,
   "id": "c00c655f",
   "metadata": {},
   "outputs": [
    {
     "name": "stdout",
     "output_type": "stream",
     "text": [
      "0.5594567760659311\n"
     ]
    }
   ],
   "source": [
    "y_pred_proba = lr1.predict_proba(X_test_scaledN)\n",
    "fpr_dt,tpr_dt,threshold = roc_curve(y_test,y_pred_proba[:,1])    #y_pred_proba\n",
    "roc_auc_dt = auc(fpr_dt,tpr_dt)\n",
    "print(roc_auc_dt)"
   ]
  },
  {
   "cell_type": "markdown",
   "id": "f454cdec",
   "metadata": {},
   "source": [
    "# Applying Decision Tree Model"
   ]
  },
  {
   "cell_type": "code",
   "execution_count": 107,
   "id": "7ae192ec",
   "metadata": {},
   "outputs": [],
   "source": [
    "l1=[]\n",
    "for i in range(50):\n",
    "\n",
    "    X_train,X_test,y_train,y_test=train_test_split(X,y,test_size=0.3,random_state=i)\n",
    "    model_D8=DecisionTreeClassifier(random_state=2,max_depth=8)\n",
    "    model_D8.fit(X_train_scaled,y_train)\n",
    "    y_pred_8 = model_D8.predict(X_test)   #to test model use model.predict(x_test)\n",
    "    accuracy_score_8 = accuracy_score(y_test,y_pred_8)\n",
    "    l1.append(accuracy_score_8)\n",
    "##with this loop we know for which random state  we can get the best accuracy"
   ]
  },
  {
   "cell_type": "code",
   "execution_count": null,
   "id": "b98939e1",
   "metadata": {},
   "outputs": [],
   "source": []
  },
  {
   "cell_type": "code",
   "execution_count": 106,
   "id": "830d3450",
   "metadata": {},
   "outputs": [
    {
     "data": {
      "text/plain": [
       "0.9633431085043989"
      ]
     },
     "execution_count": 106,
     "metadata": {},
     "output_type": "execute_result"
    }
   ],
   "source": [
    "X_train,X_test,y_train,y_test=train_test_split(X,y,test_size=0.3,random_state=51)\n",
    "model_D4=DecisionTreeClassifier(random_state=2,max_depth=4) ## using max_depth 4\n",
    "model_D4.fit(X_train,y_train)\n",
    "y_pred_4 = model_D4.predict(X_test)   #to test model use model.predict(x_test)\n",
    "accuracy_score_4 = accuracy_score(y_test,y_pred_4)\n",
    "accuracy_score_4"
   ]
  },
  {
   "cell_type": "code",
   "execution_count": 108,
   "id": "010a81b1",
   "metadata": {},
   "outputs": [
    {
     "data": {
      "text/plain": [
       "0.9613880742913001"
      ]
     },
     "execution_count": 108,
     "metadata": {},
     "output_type": "execute_result"
    }
   ],
   "source": [
    "# l2=[]\n",
    "# for i in range(100):\n",
    "#     X_train,X_test,y_train,y_test=train_test_split(X,y,test_size=0.3,random_state=51)\n",
    "#     model_D6=DecisionTreeClassifier(random_state=i,max_depth=6)\n",
    "#     model_D6.fit(X_train_scaled,y_train)\n",
    "#     y_pred_6 = model_D6.predict(X_test_scaled)   #to test model use model.predict(x_test)\n",
    "#     accuracy_score_6 = accuracy_score(y_test,y_pred_6)\n",
    "#     l2.append(accuracy_score_6)\n",
    "X_train,X_test,y_train,y_test=train_test_split(X,y,test_size=0.3,random_state=51)\n",
    "model_D6=DecisionTreeClassifier(random_state=0,max_depth=6) ## using max_depth 6\n",
    "model_D6.fit(X_train,y_train)\n",
    "y_pred_6 = model_D6.predict(X_test)   #to test model use model.predict(x_test)\n",
    "accuracy_score_6 = accuracy_score(y_test,y_pred_6)\n",
    "accuracy_score_6\n",
    "    \n",
    "# print('Accuracy Score for model with depth 6 is: ',accuracy_score_6)"
   ]
  },
  {
   "cell_type": "code",
   "execution_count": 109,
   "id": "a6e7eab4",
   "metadata": {},
   "outputs": [
    {
     "data": {
      "text/plain": [
       "0.9657869012707723"
      ]
     },
     "execution_count": 109,
     "metadata": {},
     "output_type": "execute_result"
    }
   ],
   "source": [
    "X_train,X_test,y_train,y_test=train_test_split(X,y,test_size=0.3,random_state=43)\n",
    "model_D8=DecisionTreeClassifier(random_state=2,max_depth=8) ## using max_depth 8\n",
    "model_D8.fit(X_train,y_train)\n",
    "y_pred_8 = model_D8.predict(X_test)   #to test model use model.predict(x_test)\n",
    "accuracy_score_8 = accuracy_score(y_test,y_pred_8)\n",
    "accuracy_score_8\n",
    "# print('Accuracy Score for model with depth 8 is: ',accuracy_score_8)"
   ]
  },
  {
   "cell_type": "code",
   "execution_count": 110,
   "id": "70f826ee",
   "metadata": {},
   "outputs": [
    {
     "name": "stdout",
     "output_type": "stream",
     "text": [
      "              precision    recall  f1-score   support\n",
      "\n",
      "           0       0.97      0.97      0.97      1993\n",
      "           1       0.05      0.06      0.05        53\n",
      "\n",
      "    accuracy                           0.95      2046\n",
      "   macro avg       0.51      0.51      0.51      2046\n",
      "weighted avg       0.95      0.95      0.95      2046\n",
      "\n"
     ]
    },
    {
     "data": {
      "image/png": "[encoded data removed]",
      "text/plain": [
       "<Figure size 640x480 with 2 Axes>"
      ]
     },
     "metadata": {},
     "output_type": "display_data"
    }
   ],
   "source": [
    "print(classification_report(y_test,y_pred_4))\n",
    "plot_confusion_matrix(model_D4,X_test,y_test)\n",
    "plt.show()"
   ]
  },
  {
   "cell_type": "code",
   "execution_count": 112,
   "id": "2b47e766",
   "metadata": {
    "scrolled": true
   },
   "outputs": [
    {
     "name": "stdout",
     "output_type": "stream",
     "text": [
      "              precision    recall  f1-score   support\n",
      "\n",
      "           0       0.98      0.98      0.98      1993\n",
      "           1       0.32      0.28      0.30        53\n",
      "\n",
      "    accuracy                           0.97      2046\n",
      "   macro avg       0.65      0.63      0.64      2046\n",
      "weighted avg       0.96      0.97      0.96      2046\n",
      "\n"
     ]
    },
    {
     "data": {
      "image/png": "[encoded data removed]",
      "text/plain": [
       "<Figure size 640x480 with 2 Axes>"
      ]
     },
     "metadata": {},
     "output_type": "display_data"
    }
   ],
   "source": [
    "print(classification_report(y_test,y_pred_8))\n",
    "plot_confusion_matrix(model_D8,X_test,y_test)\n",
    "plt.show()"
   ]
  },
  {
   "cell_type": "code",
   "execution_count": 113,
   "id": "b2941a76",
   "metadata": {},
   "outputs": [
    {
     "name": "stdout",
     "output_type": "stream",
     "text": [
      "0.5799496350434067\n"
     ]
    }
   ],
   "source": [
    "y_pred_proba = model_D8.predict_proba(X_test)\n",
    "fpr_dt,tpr_dt,threshold = roc_curve(y_test,y_pred_proba[:,1])    #y_pred_proba\n",
    "roc_auc_dt = auc(fpr_dt,tpr_dt)\n",
    "print(roc_auc_dt)\n",
    "# print(accuracy_score(y_test,y_pred_8))"
   ]
  },
  {
   "cell_type": "markdown",
   "id": "9ad50c08",
   "metadata": {},
   "source": [
    "# Random forest model"
   ]
  },
  {
   "cell_type": "code",
   "execution_count": 114,
   "id": "ddd5feaf",
   "metadata": {},
   "outputs": [],
   "source": [
    "from sklearn.model_selection import GridSearchCV"
   ]
  },
  {
   "cell_type": "code",
   "execution_count": 116,
   "id": "660866b6",
   "metadata": {},
   "outputs": [],
   "source": [
    "randF=RandomForestClassifier()"
   ]
  },
  {
   "cell_type": "code",
   "execution_count": 117,
   "id": "14c1ccfb",
   "metadata": {},
   "outputs": [],
   "source": [
    "# Providing the different values of hyperparameters\n",
    "#Creating a dictionary such that we have key value pair of each hyperparameter\n",
    "#Key denotes the \"hyperparameter name\" & value denotes the list of values we want to try for it\n",
    "\n",
    "param_dist = {'max_depth': [2, 3, 4, 8],\n",
    "              'max_features': ['auto', 'sqrt', 'log2', None],   #log of n to the base 2\n",
    "                'bootstrap' : [True, False],\n",
    "              'criterion': ['gini', 'entropy']}\n",
    "\n",
    "# Running gridsearchCV to check for all the different PnCs of these parameter values\n",
    "cv_rf = GridSearchCV(randF, cv = 5,\n",
    "                     param_grid=param_dist, verbose = 1,\n",
    "                     n_jobs = 3)\n",
    "\n",
    "\n",
    "#Fitting the train set , so that grid search is executed on this dataset\n",
    "\n"
   ]
  },
  {
   "cell_type": "code",
   "execution_count": 56,
   "id": "3d22d8cb",
   "metadata": {},
   "outputs": [
    {
     "name": "stdout",
     "output_type": "stream",
     "text": [
      "Fitting 5 folds for each of 64 candidates, totalling 320 fits\n"
     ]
    },
    {
     "data": {
      "text/plain": [
       "GridSearchCV(cv=5, estimator=RandomForestClassifier(), n_jobs=3,\n",
       "             param_grid={'bootstrap': [True, False],\n",
       "                         'criterion': ['gini', 'entropy'],\n",
       "                         'max_depth': [2, 3, 4, 8],\n",
       "                         'max_features': ['auto', 'sqrt', 'log2', None]},\n",
       "             verbose=1)"
      ]
     },
     "execution_count": 56,
     "metadata": {},
     "output_type": "execute_result"
    }
   ],
   "source": [
    "cv_rf.fit(X_train,y_train)"
   ]
  },
  {
   "cell_type": "code",
   "execution_count": 57,
   "id": "1e3ae567",
   "metadata": {},
   "outputs": [
    {
     "data": {
      "text/plain": [
       "{'bootstrap': True,\n",
       " 'criterion': 'gini',\n",
       " 'max_depth': 8,\n",
       " 'max_features': 'log2'}"
      ]
     },
     "execution_count": 57,
     "metadata": {},
     "output_type": "execute_result"
    }
   ],
   "source": [
    "cv_rf.best_params_"
   ]
  },
  {
   "cell_type": "code",
   "execution_count": 58,
   "id": "52c96611",
   "metadata": {},
   "outputs": [
    {
     "data": {
      "text/plain": [
       "RandomForestClassifier(bootstrap=False, criterion='entropy', max_depth=8)"
      ]
     },
     "execution_count": 58,
     "metadata": {},
     "output_type": "execute_result"
    }
   ],
   "source": [
    "rand.set_params(criterion='entropy',\n",
    "                max_features = 'auto',\n",
    "                max_depth = 8,\n",
    "                bootstrap= False)"
   ]
  },
  {
   "cell_type": "code",
   "execution_count": 59,
   "id": "991d1d30",
   "metadata": {},
   "outputs": [
    {
     "data": {
      "text/plain": [
       "RandomForestClassifier(bootstrap=False, criterion='entropy', max_depth=8)"
      ]
     },
     "execution_count": 59,
     "metadata": {},
     "output_type": "execute_result"
    }
   ],
   "source": [
    "rand.fit(X_train,y_train)"
   ]
  },
  {
   "cell_type": "code",
   "execution_count": 60,
   "id": "de51732b",
   "metadata": {},
   "outputs": [],
   "source": [
    "y_predi=rand.predict(X_test)"
   ]
  },
  {
   "cell_type": "code",
   "execution_count": 61,
   "id": "bb37b8cf",
   "metadata": {},
   "outputs": [
    {
     "data": {
      "text/plain": [
       "0.9760508308895406"
      ]
     },
     "execution_count": 61,
     "metadata": {},
     "output_type": "execute_result"
    }
   ],
   "source": [
    "accuracy_score(y_test,y_predi)"
   ]
  },
  {
   "cell_type": "code",
   "execution_count": 62,
   "id": "212edffc",
   "metadata": {},
   "outputs": [
    {
     "data": {
      "image/png": "[encoded data removed]",
      "text/plain": [
       "<Figure size 640x480 with 2 Axes>"
      ]
     },
     "metadata": {},
     "output_type": "display_data"
    }
   ],
   "source": [
    "plot_confusion_matrix(rand,X_test,y_test)\n",
    "plt.show()"
   ]
  },
  {
   "cell_type": "code",
   "execution_count": 63,
   "id": "6a8dd9a9",
   "metadata": {
    "scrolled": true
   },
   "outputs": [
    {
     "name": "stdout",
     "output_type": "stream",
     "text": [
      "              precision    recall  f1-score   support\n",
      "\n",
      "           0       0.98      1.00      0.99      1993\n",
      "           1       0.61      0.21      0.31        53\n",
      "\n",
      "    accuracy                           0.98      2046\n",
      "   macro avg       0.80      0.60      0.65      2046\n",
      "weighted avg       0.97      0.98      0.97      2046\n",
      "\n"
     ]
    }
   ],
   "source": [
    "print(classification_report(y_test,y_predi))"
   ]
  },
  {
   "cell_type": "markdown",
   "id": "3846b6f4",
   "metadata": {},
   "source": [
    "# With PCA"
   ]
  },
  {
   "cell_type": "code",
   "execution_count": 65,
   "id": "595d9d5e",
   "metadata": {},
   "outputs": [],
   "source": [
    "\n",
    "from sklearn.decomposition import PCA"
   ]
  },
  {
   "cell_type": "code",
   "execution_count": 74,
   "id": "b57a0883",
   "metadata": {},
   "outputs": [],
   "source": [
    "pca=PCA(n_components=55)"
   ]
  },
  {
   "cell_type": "code",
   "execution_count": 76,
   "id": "57755ae8",
   "metadata": {},
   "outputs": [
    {
     "data": {
      "text/plain": [
       "numpy.ndarray"
      ]
     },
     "execution_count": 76,
     "metadata": {},
     "output_type": "execute_result"
    }
   ],
   "source": [
    "df_pca = pca.fit_transform(X=X)\n",
    "type(df_pca)\n"
   ]
  },
  {
   "cell_type": "code",
   "execution_count": 78,
   "id": "8b9a0fd4",
   "metadata": {},
   "outputs": [
    {
     "data": {
      "text/plain": [
       "(6819, 55)"
      ]
     },
     "execution_count": 78,
     "metadata": {},
     "output_type": "execute_result"
    }
   ],
   "source": [
    "df_pca.shape\n"
   ]
  },
  {
   "cell_type": "code",
   "execution_count": 79,
   "id": "e876039f",
   "metadata": {},
   "outputs": [
    {
     "data": {
      "text/plain": [
       "array([[ 2.16532981e+09, -3.81494889e+07, -3.23761461e+09, ...,\n",
       "        -1.83956452e-02, -9.55519664e-04,  1.37696067e-02],\n",
       "       [ 4.90236601e+08,  8.46379452e+09,  8.74609954e+08, ...,\n",
       "        -9.80895091e-03,  6.16768003e-03, -4.94251732e-04],\n",
       "       [-2.62013847e+09, -2.16996639e+09, -1.23941619e+09, ...,\n",
       "        -1.46368975e-02,  6.59127504e-03, -3.18947838e-03],\n",
       "       ...,\n",
       "       [-2.62966345e+09, -2.70482399e+09, -1.45136980e+09, ...,\n",
       "         7.74502134e-03, -9.91881548e-04,  8.44737343e-03],\n",
       "       [-3.93145611e+09,  1.16235646e+09,  5.16590205e+08, ...,\n",
       "         2.83163806e-03,  1.61529129e-03, -3.37842456e-03],\n",
       "       [-2.50663412e+09, -2.09832184e+09, -6.90906267e+08, ...,\n",
       "         6.85505871e-03,  1.77364449e-03, -1.72799817e-02]])"
      ]
     },
     "execution_count": 79,
     "metadata": {},
     "output_type": "execute_result"
    }
   ],
   "source": [
    "df_pca"
   ]
  },
  {
   "cell_type": "code",
   "execution_count": 80,
   "id": "81e96331",
   "metadata": {},
   "outputs": [
    {
     "name": "stdout",
     "output_type": "stream",
     "text": [
      "(6819, 55)\n"
     ]
    },
    {
     "data": {
      "text/html": [
       "<div>\n",
       "<style scoped>\n",
       "    .dataframe tbody tr th:only-of-type {\n",
       "        vertical-align: middle;\n",
       "    }\n",
       "\n",
       "    .dataframe tbody tr th {\n",
       "        vertical-align: top;\n",
       "    }\n",
       "\n",
       "    .dataframe thead th {\n",
       "        text-align: right;\n",
       "    }\n",
       "</style>\n",
       "<table border=\"1\" class=\"dataframe\">\n",
       "  <thead>\n",
       "    <tr style=\"text-align: right;\">\n",
       "      <th></th>\n",
       "      <th>0</th>\n",
       "      <th>1</th>\n",
       "      <th>2</th>\n",
       "      <th>3</th>\n",
       "      <th>4</th>\n",
       "      <th>5</th>\n",
       "      <th>6</th>\n",
       "      <th>7</th>\n",
       "      <th>8</th>\n",
       "      <th>9</th>\n",
       "      <th>...</th>\n",
       "      <th>45</th>\n",
       "      <th>46</th>\n",
       "      <th>47</th>\n",
       "      <th>48</th>\n",
       "      <th>49</th>\n",
       "      <th>50</th>\n",
       "      <th>51</th>\n",
       "      <th>52</th>\n",
       "      <th>53</th>\n",
       "      <th>54</th>\n",
       "    </tr>\n",
       "  </thead>\n",
       "  <tbody>\n",
       "    <tr>\n",
       "      <th>0</th>\n",
       "      <td>2.165330e+09</td>\n",
       "      <td>-3.814949e+07</td>\n",
       "      <td>-3.237615e+09</td>\n",
       "      <td>-2.063212e+09</td>\n",
       "      <td>-1.969494e+09</td>\n",
       "      <td>-1.410239e+09</td>\n",
       "      <td>-8.723455e+08</td>\n",
       "      <td>-3.342048e+09</td>\n",
       "      <td>-6.724872e+07</td>\n",
       "      <td>-61769794.59</td>\n",
       "      <td>...</td>\n",
       "      <td>0.01</td>\n",
       "      <td>-0.02</td>\n",
       "      <td>-0.03</td>\n",
       "      <td>0.01</td>\n",
       "      <td>-0.00</td>\n",
       "      <td>0.00</td>\n",
       "      <td>-0.03</td>\n",
       "      <td>-0.02</td>\n",
       "      <td>-0.00</td>\n",
       "      <td>0.01</td>\n",
       "    </tr>\n",
       "    <tr>\n",
       "      <th>1</th>\n",
       "      <td>4.902366e+08</td>\n",
       "      <td>8.463795e+09</td>\n",
       "      <td>8.746100e+08</td>\n",
       "      <td>-3.292132e+09</td>\n",
       "      <td>-1.383796e+09</td>\n",
       "      <td>-1.194097e+09</td>\n",
       "      <td>-2.313543e+08</td>\n",
       "      <td>-2.330575e+09</td>\n",
       "      <td>3.305436e+07</td>\n",
       "      <td>-77427684.99</td>\n",
       "      <td>...</td>\n",
       "      <td>0.01</td>\n",
       "      <td>0.00</td>\n",
       "      <td>-0.01</td>\n",
       "      <td>-0.03</td>\n",
       "      <td>0.22</td>\n",
       "      <td>0.07</td>\n",
       "      <td>0.00</td>\n",
       "      <td>-0.01</td>\n",
       "      <td>0.01</td>\n",
       "      <td>-0.00</td>\n",
       "    </tr>\n",
       "    <tr>\n",
       "      <th>2</th>\n",
       "      <td>-2.620138e+09</td>\n",
       "      <td>-2.169966e+09</td>\n",
       "      <td>-1.239416e+09</td>\n",
       "      <td>8.771527e+08</td>\n",
       "      <td>-2.812465e+09</td>\n",
       "      <td>-1.582306e+09</td>\n",
       "      <td>1.654892e+09</td>\n",
       "      <td>-4.584627e+08</td>\n",
       "      <td>-2.737372e+08</td>\n",
       "      <td>-81237444.45</td>\n",
       "      <td>...</td>\n",
       "      <td>-0.00</td>\n",
       "      <td>0.00</td>\n",
       "      <td>-0.00</td>\n",
       "      <td>0.00</td>\n",
       "      <td>-0.00</td>\n",
       "      <td>0.00</td>\n",
       "      <td>-0.00</td>\n",
       "      <td>-0.01</td>\n",
       "      <td>0.01</td>\n",
       "      <td>-0.00</td>\n",
       "    </tr>\n",
       "    <tr>\n",
       "      <th>3</th>\n",
       "      <td>3.249284e+09</td>\n",
       "      <td>5.987899e+09</td>\n",
       "      <td>-2.180465e+09</td>\n",
       "      <td>-4.385660e+09</td>\n",
       "      <td>-2.566962e+09</td>\n",
       "      <td>1.061380e+09</td>\n",
       "      <td>7.876119e+09</td>\n",
       "      <td>4.758288e+09</td>\n",
       "      <td>-5.484820e+07</td>\n",
       "      <td>24067803.99</td>\n",
       "      <td>...</td>\n",
       "      <td>0.01</td>\n",
       "      <td>0.00</td>\n",
       "      <td>-0.01</td>\n",
       "      <td>-0.02</td>\n",
       "      <td>-0.00</td>\n",
       "      <td>-0.00</td>\n",
       "      <td>-0.01</td>\n",
       "      <td>-0.00</td>\n",
       "      <td>0.00</td>\n",
       "      <td>-0.01</td>\n",
       "    </tr>\n",
       "    <tr>\n",
       "      <th>4</th>\n",
       "      <td>7.604602e+09</td>\n",
       "      <td>-2.951427e+09</td>\n",
       "      <td>2.267775e+09</td>\n",
       "      <td>-2.370486e+09</td>\n",
       "      <td>-1.647314e+09</td>\n",
       "      <td>-3.956955e+08</td>\n",
       "      <td>-4.681061e+08</td>\n",
       "      <td>2.215795e+09</td>\n",
       "      <td>-7.627852e+07</td>\n",
       "      <td>-42444722.14</td>\n",
       "      <td>...</td>\n",
       "      <td>0.01</td>\n",
       "      <td>0.01</td>\n",
       "      <td>-0.01</td>\n",
       "      <td>-0.01</td>\n",
       "      <td>-0.00</td>\n",
       "      <td>-0.01</td>\n",
       "      <td>0.00</td>\n",
       "      <td>-0.00</td>\n",
       "      <td>-0.01</td>\n",
       "      <td>-0.01</td>\n",
       "    </tr>\n",
       "  </tbody>\n",
       "</table>\n",
       "<p>5 rows × 55 columns</p>\n",
       "</div>"
      ],
      "text/plain": [
       "             0             1             2             3             4   \\\n",
       "0  2.165330e+09 -3.814949e+07 -3.237615e+09 -2.063212e+09 -1.969494e+09   \n",
       "1  4.902366e+08  8.463795e+09  8.746100e+08 -3.292132e+09 -1.383796e+09   \n",
       "2 -2.620138e+09 -2.169966e+09 -1.239416e+09  8.771527e+08 -2.812465e+09   \n",
       "3  3.249284e+09  5.987899e+09 -2.180465e+09 -4.385660e+09 -2.566962e+09   \n",
       "4  7.604602e+09 -2.951427e+09  2.267775e+09 -2.370486e+09 -1.647314e+09   \n",
       "\n",
       "             5             6             7             8            9   ...  \\\n",
       "0 -1.410239e+09 -8.723455e+08 -3.342048e+09 -6.724872e+07 -61769794.59  ...   \n",
       "1 -1.194097e+09 -2.313543e+08 -2.330575e+09  3.305436e+07 -77427684.99  ...   \n",
       "2 -1.582306e+09  1.654892e+09 -4.584627e+08 -2.737372e+08 -81237444.45  ...   \n",
       "3  1.061380e+09  7.876119e+09  4.758288e+09 -5.484820e+07  24067803.99  ...   \n",
       "4 -3.956955e+08 -4.681061e+08  2.215795e+09 -7.627852e+07 -42444722.14  ...   \n",
       "\n",
       "     45    46    47    48    49    50    51    52    53    54  \n",
       "0  0.01 -0.02 -0.03  0.01 -0.00  0.00 -0.03 -0.02 -0.00  0.01  \n",
       "1  0.01  0.00 -0.01 -0.03  0.22  0.07  0.00 -0.01  0.01 -0.00  \n",
       "2 -0.00  0.00 -0.00  0.00 -0.00  0.00 -0.00 -0.01  0.01 -0.00  \n",
       "3  0.01  0.00 -0.01 -0.02 -0.00 -0.00 -0.01 -0.00  0.00 -0.01  \n",
       "4  0.01  0.01 -0.01 -0.01 -0.00 -0.01  0.00 -0.00 -0.01 -0.01  \n",
       "\n",
       "[5 rows x 55 columns]"
      ]
     },
     "execution_count": 80,
     "metadata": {},
     "output_type": "execute_result"
    }
   ],
   "source": [
    "df_pca = pd.DataFrame(df_pca)\n",
    "print(df_pca.shape)  #Less than (3147, 784)\n",
    "df_pca.round(2).head()"
   ]
  },
  {
   "cell_type": "code",
   "execution_count": 95,
   "id": "27182c65",
   "metadata": {},
   "outputs": [
    {
     "data": {
      "text/plain": [
       "array([[1.60361645e+19, 1.11509397e+19, 9.02005119e+18, 8.72728461e+18,\n",
       "        7.89193239e+18, 6.47925096e+18, 6.03426360e+18, 4.96836983e+18,\n",
       "        3.37510830e+17, 3.24585166e+17, 2.60637011e+17, 1.43335993e+17,\n",
       "        8.67605760e+16, 7.49541706e+16, 6.55368146e+16, 5.79038670e+16,\n",
       "        2.96249133e+16, 2.83109893e+16, 1.86992619e+16, 1.28827147e+16,\n",
       "        1.16092940e+16, 9.88745501e+15, 2.25802250e+15, 1.10861478e+15,\n",
       "        1.12279935e-01, 3.96061167e-02, 2.27348425e-02, 1.85132633e-02,\n",
       "        1.20889482e-02, 7.80828653e-03, 6.51895244e-03, 4.14951478e-03,\n",
       "        3.36647971e-03, 2.36000035e-03, 1.82686857e-03, 1.43132411e-03,\n",
       "        1.17105424e-03, 1.08221819e-03, 8.44969377e-04, 7.36838326e-04,\n",
       "        6.79873419e-04, 6.47546711e-04, 5.29681537e-04, 4.96954043e-04,\n",
       "        4.32929460e-04, 4.24026212e-04, 3.78934234e-04, 3.42286588e-04,\n",
       "        2.67183577e-04, 2.45478100e-04, 2.37841933e-04, 2.11944620e-04,\n",
       "        2.01661446e-04, 1.74995867e-04, 1.67730820e-04]])"
      ]
     },
     "execution_count": 95,
     "metadata": {},
     "output_type": "execute_result"
    }
   ],
   "source": [
    "v = pca.explained_variance_\n",
    "v=v.reshape(1,-1)\n",
    "v\n"
   ]
  },
  {
   "cell_type": "code",
   "execution_count": 86,
   "id": "8ba890d3",
   "metadata": {},
   "outputs": [
    {
     "name": "stdout",
     "output_type": "stream",
     "text": [
      "[2.234e-01 1.554e-01 1.257e-01 1.216e-01 1.100e-01 9.030e-02 8.410e-02\n",
      " 6.920e-02 4.700e-03 4.500e-03 3.600e-03 2.000e-03 1.200e-03 1.000e-03\n",
      " 9.000e-04 8.000e-04 4.000e-04 4.000e-04 3.000e-04 2.000e-04 2.000e-04\n",
      " 1.000e-04 0.000e+00 0.000e+00 0.000e+00 0.000e+00 0.000e+00 0.000e+00\n",
      " 0.000e+00 0.000e+00 0.000e+00 0.000e+00 0.000e+00 0.000e+00 0.000e+00\n",
      " 0.000e+00 0.000e+00 0.000e+00 0.000e+00 0.000e+00 0.000e+00 0.000e+00\n",
      " 0.000e+00 0.000e+00 0.000e+00 0.000e+00 0.000e+00 0.000e+00 0.000e+00\n",
      " 0.000e+00 0.000e+00 0.000e+00 0.000e+00 0.000e+00 0.000e+00]\n"
     ]
    }
   ],
   "source": [
    "print(pca.explained_variance_ratio_.round(4))"
   ]
  },
  {
   "cell_type": "code",
   "execution_count": 89,
   "id": "1fd31bab",
   "metadata": {
    "scrolled": true
   },
   "outputs": [
    {
     "data": {
      "text/html": [
       "<div>\n",
       "<style scoped>\n",
       "    .dataframe tbody tr th:only-of-type {\n",
       "        vertical-align: middle;\n",
       "    }\n",
       "\n",
       "    .dataframe tbody tr th {\n",
       "        vertical-align: top;\n",
       "    }\n",
       "\n",
       "    .dataframe thead th {\n",
       "        text-align: right;\n",
       "    }\n",
       "</style>\n",
       "<table border=\"1\" class=\"dataframe\">\n",
       "  <thead>\n",
       "    <tr style=\"text-align: right;\">\n",
       "      <th></th>\n",
       "      <th>PC#</th>\n",
       "      <th>Variance</th>\n",
       "      <th>Percentage</th>\n",
       "      <th>Cumulative var</th>\n",
       "    </tr>\n",
       "  </thead>\n",
       "  <tbody>\n",
       "    <tr>\n",
       "      <th>0</th>\n",
       "      <td>1.0</td>\n",
       "      <td>0.2234</td>\n",
       "      <td>22.34</td>\n",
       "      <td>22.34</td>\n",
       "    </tr>\n",
       "    <tr>\n",
       "      <th>1</th>\n",
       "      <td>2.0</td>\n",
       "      <td>0.1554</td>\n",
       "      <td>15.54</td>\n",
       "      <td>37.88</td>\n",
       "    </tr>\n",
       "    <tr>\n",
       "      <th>2</th>\n",
       "      <td>3.0</td>\n",
       "      <td>0.1257</td>\n",
       "      <td>12.57</td>\n",
       "      <td>50.45</td>\n",
       "    </tr>\n",
       "    <tr>\n",
       "      <th>3</th>\n",
       "      <td>4.0</td>\n",
       "      <td>0.1216</td>\n",
       "      <td>12.16</td>\n",
       "      <td>62.61</td>\n",
       "    </tr>\n",
       "    <tr>\n",
       "      <th>4</th>\n",
       "      <td>5.0</td>\n",
       "      <td>0.1100</td>\n",
       "      <td>11.00</td>\n",
       "      <td>73.61</td>\n",
       "    </tr>\n",
       "    <tr>\n",
       "      <th>5</th>\n",
       "      <td>6.0</td>\n",
       "      <td>0.0903</td>\n",
       "      <td>9.03</td>\n",
       "      <td>82.64</td>\n",
       "    </tr>\n",
       "    <tr>\n",
       "      <th>6</th>\n",
       "      <td>7.0</td>\n",
       "      <td>0.0841</td>\n",
       "      <td>8.41</td>\n",
       "      <td>91.05</td>\n",
       "    </tr>\n",
       "    <tr>\n",
       "      <th>7</th>\n",
       "      <td>8.0</td>\n",
       "      <td>0.0692</td>\n",
       "      <td>6.92</td>\n",
       "      <td>97.97</td>\n",
       "    </tr>\n",
       "    <tr>\n",
       "      <th>8</th>\n",
       "      <td>9.0</td>\n",
       "      <td>0.0047</td>\n",
       "      <td>0.47</td>\n",
       "      <td>98.44</td>\n",
       "    </tr>\n",
       "    <tr>\n",
       "      <th>9</th>\n",
       "      <td>10.0</td>\n",
       "      <td>0.0045</td>\n",
       "      <td>0.45</td>\n",
       "      <td>98.89</td>\n",
       "    </tr>\n",
       "    <tr>\n",
       "      <th>10</th>\n",
       "      <td>11.0</td>\n",
       "      <td>0.0036</td>\n",
       "      <td>0.36</td>\n",
       "      <td>99.25</td>\n",
       "    </tr>\n",
       "    <tr>\n",
       "      <th>11</th>\n",
       "      <td>12.0</td>\n",
       "      <td>0.0020</td>\n",
       "      <td>0.20</td>\n",
       "      <td>99.45</td>\n",
       "    </tr>\n",
       "    <tr>\n",
       "      <th>12</th>\n",
       "      <td>13.0</td>\n",
       "      <td>0.0012</td>\n",
       "      <td>0.12</td>\n",
       "      <td>99.57</td>\n",
       "    </tr>\n",
       "    <tr>\n",
       "      <th>13</th>\n",
       "      <td>14.0</td>\n",
       "      <td>0.0010</td>\n",
       "      <td>0.10</td>\n",
       "      <td>99.67</td>\n",
       "    </tr>\n",
       "    <tr>\n",
       "      <th>14</th>\n",
       "      <td>15.0</td>\n",
       "      <td>0.0009</td>\n",
       "      <td>0.09</td>\n",
       "      <td>99.76</td>\n",
       "    </tr>\n",
       "    <tr>\n",
       "      <th>15</th>\n",
       "      <td>16.0</td>\n",
       "      <td>0.0008</td>\n",
       "      <td>0.08</td>\n",
       "      <td>99.84</td>\n",
       "    </tr>\n",
       "    <tr>\n",
       "      <th>16</th>\n",
       "      <td>17.0</td>\n",
       "      <td>0.0004</td>\n",
       "      <td>0.04</td>\n",
       "      <td>99.88</td>\n",
       "    </tr>\n",
       "    <tr>\n",
       "      <th>17</th>\n",
       "      <td>18.0</td>\n",
       "      <td>0.0004</td>\n",
       "      <td>0.04</td>\n",
       "      <td>99.92</td>\n",
       "    </tr>\n",
       "    <tr>\n",
       "      <th>18</th>\n",
       "      <td>19.0</td>\n",
       "      <td>0.0003</td>\n",
       "      <td>0.03</td>\n",
       "      <td>99.95</td>\n",
       "    </tr>\n",
       "    <tr>\n",
       "      <th>19</th>\n",
       "      <td>20.0</td>\n",
       "      <td>0.0002</td>\n",
       "      <td>0.02</td>\n",
       "      <td>99.97</td>\n",
       "    </tr>\n",
       "    <tr>\n",
       "      <th>20</th>\n",
       "      <td>21.0</td>\n",
       "      <td>0.0002</td>\n",
       "      <td>0.02</td>\n",
       "      <td>99.99</td>\n",
       "    </tr>\n",
       "    <tr>\n",
       "      <th>21</th>\n",
       "      <td>22.0</td>\n",
       "      <td>0.0001</td>\n",
       "      <td>0.01</td>\n",
       "      <td>100.00</td>\n",
       "    </tr>\n",
       "    <tr>\n",
       "      <th>22</th>\n",
       "      <td>23.0</td>\n",
       "      <td>0.0000</td>\n",
       "      <td>0.00</td>\n",
       "      <td>100.00</td>\n",
       "    </tr>\n",
       "    <tr>\n",
       "      <th>23</th>\n",
       "      <td>24.0</td>\n",
       "      <td>0.0000</td>\n",
       "      <td>0.00</td>\n",
       "      <td>100.00</td>\n",
       "    </tr>\n",
       "    <tr>\n",
       "      <th>24</th>\n",
       "      <td>25.0</td>\n",
       "      <td>0.0000</td>\n",
       "      <td>0.00</td>\n",
       "      <td>100.00</td>\n",
       "    </tr>\n",
       "    <tr>\n",
       "      <th>25</th>\n",
       "      <td>26.0</td>\n",
       "      <td>0.0000</td>\n",
       "      <td>0.00</td>\n",
       "      <td>100.00</td>\n",
       "    </tr>\n",
       "    <tr>\n",
       "      <th>26</th>\n",
       "      <td>27.0</td>\n",
       "      <td>0.0000</td>\n",
       "      <td>0.00</td>\n",
       "      <td>100.00</td>\n",
       "    </tr>\n",
       "    <tr>\n",
       "      <th>27</th>\n",
       "      <td>28.0</td>\n",
       "      <td>0.0000</td>\n",
       "      <td>0.00</td>\n",
       "      <td>100.00</td>\n",
       "    </tr>\n",
       "    <tr>\n",
       "      <th>28</th>\n",
       "      <td>29.0</td>\n",
       "      <td>0.0000</td>\n",
       "      <td>0.00</td>\n",
       "      <td>100.00</td>\n",
       "    </tr>\n",
       "    <tr>\n",
       "      <th>29</th>\n",
       "      <td>30.0</td>\n",
       "      <td>0.0000</td>\n",
       "      <td>0.00</td>\n",
       "      <td>100.00</td>\n",
       "    </tr>\n",
       "    <tr>\n",
       "      <th>30</th>\n",
       "      <td>31.0</td>\n",
       "      <td>0.0000</td>\n",
       "      <td>0.00</td>\n",
       "      <td>100.00</td>\n",
       "    </tr>\n",
       "    <tr>\n",
       "      <th>31</th>\n",
       "      <td>32.0</td>\n",
       "      <td>0.0000</td>\n",
       "      <td>0.00</td>\n",
       "      <td>100.00</td>\n",
       "    </tr>\n",
       "    <tr>\n",
       "      <th>32</th>\n",
       "      <td>33.0</td>\n",
       "      <td>0.0000</td>\n",
       "      <td>0.00</td>\n",
       "      <td>100.00</td>\n",
       "    </tr>\n",
       "    <tr>\n",
       "      <th>33</th>\n",
       "      <td>34.0</td>\n",
       "      <td>0.0000</td>\n",
       "      <td>0.00</td>\n",
       "      <td>100.00</td>\n",
       "    </tr>\n",
       "    <tr>\n",
       "      <th>34</th>\n",
       "      <td>35.0</td>\n",
       "      <td>0.0000</td>\n",
       "      <td>0.00</td>\n",
       "      <td>100.00</td>\n",
       "    </tr>\n",
       "    <tr>\n",
       "      <th>35</th>\n",
       "      <td>36.0</td>\n",
       "      <td>0.0000</td>\n",
       "      <td>0.00</td>\n",
       "      <td>100.00</td>\n",
       "    </tr>\n",
       "    <tr>\n",
       "      <th>36</th>\n",
       "      <td>37.0</td>\n",
       "      <td>0.0000</td>\n",
       "      <td>0.00</td>\n",
       "      <td>100.00</td>\n",
       "    </tr>\n",
       "    <tr>\n",
       "      <th>37</th>\n",
       "      <td>38.0</td>\n",
       "      <td>0.0000</td>\n",
       "      <td>0.00</td>\n",
       "      <td>100.00</td>\n",
       "    </tr>\n",
       "    <tr>\n",
       "      <th>38</th>\n",
       "      <td>39.0</td>\n",
       "      <td>0.0000</td>\n",
       "      <td>0.00</td>\n",
       "      <td>100.00</td>\n",
       "    </tr>\n",
       "    <tr>\n",
       "      <th>39</th>\n",
       "      <td>40.0</td>\n",
       "      <td>0.0000</td>\n",
       "      <td>0.00</td>\n",
       "      <td>100.00</td>\n",
       "    </tr>\n",
       "    <tr>\n",
       "      <th>40</th>\n",
       "      <td>41.0</td>\n",
       "      <td>0.0000</td>\n",
       "      <td>0.00</td>\n",
       "      <td>100.00</td>\n",
       "    </tr>\n",
       "    <tr>\n",
       "      <th>41</th>\n",
       "      <td>42.0</td>\n",
       "      <td>0.0000</td>\n",
       "      <td>0.00</td>\n",
       "      <td>100.00</td>\n",
       "    </tr>\n",
       "    <tr>\n",
       "      <th>42</th>\n",
       "      <td>43.0</td>\n",
       "      <td>0.0000</td>\n",
       "      <td>0.00</td>\n",
       "      <td>100.00</td>\n",
       "    </tr>\n",
       "    <tr>\n",
       "      <th>43</th>\n",
       "      <td>44.0</td>\n",
       "      <td>0.0000</td>\n",
       "      <td>0.00</td>\n",
       "      <td>100.00</td>\n",
       "    </tr>\n",
       "    <tr>\n",
       "      <th>44</th>\n",
       "      <td>45.0</td>\n",
       "      <td>0.0000</td>\n",
       "      <td>0.00</td>\n",
       "      <td>100.00</td>\n",
       "    </tr>\n",
       "    <tr>\n",
       "      <th>45</th>\n",
       "      <td>46.0</td>\n",
       "      <td>0.0000</td>\n",
       "      <td>0.00</td>\n",
       "      <td>100.00</td>\n",
       "    </tr>\n",
       "    <tr>\n",
       "      <th>46</th>\n",
       "      <td>47.0</td>\n",
       "      <td>0.0000</td>\n",
       "      <td>0.00</td>\n",
       "      <td>100.00</td>\n",
       "    </tr>\n",
       "    <tr>\n",
       "      <th>47</th>\n",
       "      <td>48.0</td>\n",
       "      <td>0.0000</td>\n",
       "      <td>0.00</td>\n",
       "      <td>100.00</td>\n",
       "    </tr>\n",
       "    <tr>\n",
       "      <th>48</th>\n",
       "      <td>49.0</td>\n",
       "      <td>0.0000</td>\n",
       "      <td>0.00</td>\n",
       "      <td>100.00</td>\n",
       "    </tr>\n",
       "    <tr>\n",
       "      <th>49</th>\n",
       "      <td>50.0</td>\n",
       "      <td>0.0000</td>\n",
       "      <td>0.00</td>\n",
       "      <td>100.00</td>\n",
       "    </tr>\n",
       "    <tr>\n",
       "      <th>50</th>\n",
       "      <td>51.0</td>\n",
       "      <td>0.0000</td>\n",
       "      <td>0.00</td>\n",
       "      <td>100.00</td>\n",
       "    </tr>\n",
       "    <tr>\n",
       "      <th>51</th>\n",
       "      <td>52.0</td>\n",
       "      <td>0.0000</td>\n",
       "      <td>0.00</td>\n",
       "      <td>100.00</td>\n",
       "    </tr>\n",
       "    <tr>\n",
       "      <th>52</th>\n",
       "      <td>53.0</td>\n",
       "      <td>0.0000</td>\n",
       "      <td>0.00</td>\n",
       "      <td>100.00</td>\n",
       "    </tr>\n",
       "    <tr>\n",
       "      <th>53</th>\n",
       "      <td>54.0</td>\n",
       "      <td>0.0000</td>\n",
       "      <td>0.00</td>\n",
       "      <td>100.00</td>\n",
       "    </tr>\n",
       "    <tr>\n",
       "      <th>54</th>\n",
       "      <td>55.0</td>\n",
       "      <td>0.0000</td>\n",
       "      <td>0.00</td>\n",
       "      <td>100.00</td>\n",
       "    </tr>\n",
       "  </tbody>\n",
       "</table>\n",
       "</div>"
      ],
      "text/plain": [
       "     PC#  Variance  Percentage  Cumulative var\n",
       "0    1.0    0.2234       22.34           22.34\n",
       "1    2.0    0.1554       15.54           37.88\n",
       "2    3.0    0.1257       12.57           50.45\n",
       "3    4.0    0.1216       12.16           62.61\n",
       "4    5.0    0.1100       11.00           73.61\n",
       "5    6.0    0.0903        9.03           82.64\n",
       "6    7.0    0.0841        8.41           91.05\n",
       "7    8.0    0.0692        6.92           97.97\n",
       "8    9.0    0.0047        0.47           98.44\n",
       "9   10.0    0.0045        0.45           98.89\n",
       "10  11.0    0.0036        0.36           99.25\n",
       "11  12.0    0.0020        0.20           99.45\n",
       "12  13.0    0.0012        0.12           99.57\n",
       "13  14.0    0.0010        0.10           99.67\n",
       "14  15.0    0.0009        0.09           99.76\n",
       "15  16.0    0.0008        0.08           99.84\n",
       "16  17.0    0.0004        0.04           99.88\n",
       "17  18.0    0.0004        0.04           99.92\n",
       "18  19.0    0.0003        0.03           99.95\n",
       "19  20.0    0.0002        0.02           99.97\n",
       "20  21.0    0.0002        0.02           99.99\n",
       "21  22.0    0.0001        0.01          100.00\n",
       "22  23.0    0.0000        0.00          100.00\n",
       "23  24.0    0.0000        0.00          100.00\n",
       "24  25.0    0.0000        0.00          100.00\n",
       "25  26.0    0.0000        0.00          100.00\n",
       "26  27.0    0.0000        0.00          100.00\n",
       "27  28.0    0.0000        0.00          100.00\n",
       "28  29.0    0.0000        0.00          100.00\n",
       "29  30.0    0.0000        0.00          100.00\n",
       "30  31.0    0.0000        0.00          100.00\n",
       "31  32.0    0.0000        0.00          100.00\n",
       "32  33.0    0.0000        0.00          100.00\n",
       "33  34.0    0.0000        0.00          100.00\n",
       "34  35.0    0.0000        0.00          100.00\n",
       "35  36.0    0.0000        0.00          100.00\n",
       "36  37.0    0.0000        0.00          100.00\n",
       "37  38.0    0.0000        0.00          100.00\n",
       "38  39.0    0.0000        0.00          100.00\n",
       "39  40.0    0.0000        0.00          100.00\n",
       "40  41.0    0.0000        0.00          100.00\n",
       "41  42.0    0.0000        0.00          100.00\n",
       "42  43.0    0.0000        0.00          100.00\n",
       "43  44.0    0.0000        0.00          100.00\n",
       "44  45.0    0.0000        0.00          100.00\n",
       "45  46.0    0.0000        0.00          100.00\n",
       "46  47.0    0.0000        0.00          100.00\n",
       "47  48.0    0.0000        0.00          100.00\n",
       "48  49.0    0.0000        0.00          100.00\n",
       "49  50.0    0.0000        0.00          100.00\n",
       "50  51.0    0.0000        0.00          100.00\n",
       "51  52.0    0.0000        0.00          100.00\n",
       "52  53.0    0.0000        0.00          100.00\n",
       "53  54.0    0.0000        0.00          100.00\n",
       "54  55.0    0.0000        0.00          100.00"
      ]
     },
     "execution_count": 89,
     "metadata": {},
     "output_type": "execute_result"
    }
   ],
   "source": [
    "variances = pca.explained_variance_ratio_.round(4).reshape(1,-1)\n",
    "percentage = (variances*100).reshape(1,-1)\n",
    "var=np.cumsum(np.round(variances, decimals=4)*100).reshape(1,-1)\n",
    "r=np.arange(1,56)\n",
    "final= [r , variances[0], percentage[0], var[0] ]\n",
    "final\n",
    "df = pd.DataFrame(data = final)\n",
    "df1=df.T\n",
    "columns = ['PC#' , 'Variance', 'Percentage', 'Cumulative var']\n",
    "df1.columns = columns\n",
    "df1\n"
   ]
  },
  {
   "cell_type": "code",
   "execution_count": 104,
   "id": "85d1522b",
   "metadata": {},
   "outputs": [
    {
     "data": {
      "image/png": "[encoded data removed]",
      "text/plain": [
       "<Figure size 1200x600 with 1 Axes>"
      ]
     },
     "metadata": {},
     "output_type": "display_data"
    }
   ],
   "source": [
    "plt.figure(figsize=(12,6))\n",
    "PC_values = np.arange(pca.n_components_) + 1\n",
    "plt.plot(PC_values, pca.explained_variance_ratio_, 'o-', linewidth=2, color='blue')\n",
    "plt.title('Scree Plot')\n",
    "plt.xlabel('Principal Component')\n",
    "plt.ylabel('Variance Explained')\n",
    "plt.show()"
   ]
  },
  {
   "cell_type": "markdown",
   "id": "4df19f2a",
   "metadata": {},
   "source": [
    "# Decision Tree Model"
   ]
  },
  {
   "cell_type": "code",
   "execution_count": 99,
   "id": "f12149de",
   "metadata": {},
   "outputs": [],
   "source": [
    "X_train,X_test,y_train,y_test=train_test_split(df_pca,y,test_size=0.3,random_state=52)"
   ]
  },
  {
   "cell_type": "code",
   "execution_count": 118,
   "id": "898e81c5",
   "metadata": {},
   "outputs": [
    {
     "data": {
      "text/plain": [
       "0.9657869012707723"
      ]
     },
     "execution_count": 118,
     "metadata": {},
     "output_type": "execute_result"
    }
   ],
   "source": [
    "model_8=DecisionTreeClassifier(random_state=2,max_depth=8)\n",
    "model_8.fit(X_train,y_train)\n",
    "y_predd=model_8.predict(X_test)\n",
    "accuracy_score(y_test,y_predd)"
   ]
  },
  {
   "cell_type": "code",
   "execution_count": 119,
   "id": "fabf183a",
   "metadata": {},
   "outputs": [
    {
     "data": {
      "text/plain": [
       "<sklearn.metrics._plot.confusion_matrix.ConfusionMatrixDisplay at 0x20ade914af0>"
      ]
     },
     "execution_count": 119,
     "metadata": {},
     "output_type": "execute_result"
    },
    {
     "data": {
      "image/png": "[encoded data removed]",
      "text/plain": [
       "<Figure size 640x480 with 2 Axes>"
      ]
     },
     "metadata": {},
     "output_type": "display_data"
    }
   ],
   "source": [
    "plot_confusion_matrix(model_8,X_test,y_test)"
   ]
  },
  {
   "cell_type": "code",
   "execution_count": 120,
   "id": "c4f7d013",
   "metadata": {},
   "outputs": [
    {
     "name": "stdout",
     "output_type": "stream",
     "text": [
      "              precision    recall  f1-score   support\n",
      "\n",
      "           0       0.98      0.98      0.98      1993\n",
      "           1       0.32      0.28      0.30        53\n",
      "\n",
      "    accuracy                           0.97      2046\n",
      "   macro avg       0.65      0.63      0.64      2046\n",
      "weighted avg       0.96      0.97      0.96      2046\n",
      "\n"
     ]
    }
   ],
   "source": [
    "print(classification_report(y_test,y_predd))"
   ]
  },
  {
   "cell_type": "code",
   "execution_count": 105,
   "id": "78ee9a36",
   "metadata": {},
   "outputs": [
    {
     "name": "stdout",
     "output_type": "stream",
     "text": [
      "0.6939582029217229\n"
     ]
    }
   ],
   "source": [
    "y_pred_proba = model_8.predict_proba(X_test)\n",
    "fpr_dt,tpr_dt,threshold = roc_curve(y_test,y_pred_proba[:,1])    #y_pred_proba\n",
    "roc_auc_dt = auc(fpr_dt,tpr_dt)\n",
    "print(roc_auc_dt)"
   ]
  },
  {
   "cell_type": "markdown",
   "id": "f181ad33",
   "metadata": {},
   "source": [
    "# Random Forest model"
   ]
  },
  {
   "cell_type": "code",
   "execution_count": 106,
   "id": "86c43d07",
   "metadata": {},
   "outputs": [
    {
     "data": {
      "text/plain": [
       "0.9755620723362659"
      ]
     },
     "execution_count": 106,
     "metadata": {},
     "output_type": "execute_result"
    }
   ],
   "source": [
    "X_train,X_test,y_train,y_test=train_test_split(df_pca,y,test_size=0.3,random_state=51)\n",
    "RF=RandomForestClassifier()\n",
    "RF.fit(X_train,y_train)\n",
    "y_predic=RF.predict(X_test)\n",
    "accuracy_score(y_test,y_predic)"
   ]
  },
  {
   "cell_type": "code",
   "execution_count": 109,
   "id": "cfc1faa2",
   "metadata": {},
   "outputs": [],
   "source": [
    "# Providing the different values of hyperparameters\n",
    "#Creating a dictionary such that we have key value pair of each hyperparameter\n",
    "#Key denotes the \"hyperparameter name\" & value denotes the list of values we want to try for it\n",
    "\n",
    "param_dist = {'max_depth': [2, 3, 4, 8],\n",
    "              'max_features': ['auto', 'sqrt', 'log2', None],   #log of n to the base 2\n",
    "                'bootstrap' : [True, False],\n",
    "              'criterion': ['gini', 'entropy']}\n",
    "\n",
    "# Running gridsearchCV to check for all the different PnCs of these parameter values\n",
    "cv_rf = GridSearchCV(rand, cv = 5,\n",
    "                     param_grid=param_dist, verbose = 1,\n",
    "                     n_jobs = 3)\n",
    "\n",
    "\n",
    "#Fitting the train set , so that grid search is executed on this dataset\n",
    "\n"
   ]
  },
  {
   "cell_type": "code",
   "execution_count": 110,
   "id": "0a9dfb17",
   "metadata": {},
   "outputs": [
    {
     "name": "stdout",
     "output_type": "stream",
     "text": [
      "Fitting 5 folds for each of 64 candidates, totalling 320 fits\n"
     ]
    },
    {
     "data": {
      "text/plain": [
       "GridSearchCV(cv=5,\n",
       "             estimator=RandomForestClassifier(bootstrap=False,\n",
       "                                              criterion='entropy',\n",
       "                                              max_depth=8),\n",
       "             n_jobs=3,\n",
       "             param_grid={'bootstrap': [True, False],\n",
       "                         'criterion': ['gini', 'entropy'],\n",
       "                         'max_depth': [2, 3, 4, 8],\n",
       "                         'max_features': ['auto', 'sqrt', 'log2', None]},\n",
       "             verbose=1)"
      ]
     },
     "execution_count": 110,
     "metadata": {},
     "output_type": "execute_result"
    }
   ],
   "source": [
    "cv_rf.fit(X_train,y_train)"
   ]
  },
  {
   "cell_type": "code",
   "execution_count": 111,
   "id": "eec81f3a",
   "metadata": {},
   "outputs": [
    {
     "data": {
      "text/plain": [
       "{'bootstrap': True,\n",
       " 'criterion': 'entropy',\n",
       " 'max_depth': 8,\n",
       " 'max_features': None}"
      ]
     },
     "execution_count": 111,
     "metadata": {},
     "output_type": "execute_result"
    }
   ],
   "source": [
    "cv_rf.best_params_"
   ]
  },
  {
   "cell_type": "code",
   "execution_count": 115,
   "id": "a4a95ee7",
   "metadata": {},
   "outputs": [
    {
     "data": {
      "text/plain": [
       "RandomForestClassifier(criterion='entropy', max_depth=8, max_features=None)"
      ]
     },
     "execution_count": 115,
     "metadata": {},
     "output_type": "execute_result"
    }
   ],
   "source": [
    "RF.set_params(criterion='entropy',\n",
    "             bootstrap=True,\n",
    "             max_depth=8,\n",
    "             max_features=None)"
   ]
  },
  {
   "cell_type": "code",
   "execution_count": 116,
   "id": "2800acb6",
   "metadata": {},
   "outputs": [
    {
     "data": {
      "text/plain": [
       "0.97702834799609"
      ]
     },
     "execution_count": 116,
     "metadata": {},
     "output_type": "execute_result"
    }
   ],
   "source": [
    "RF.fit(X_train,y_train)\n",
    "y_preddd=RF.predict(X_test)\n",
    "accuracy_score(y_test,y_preddd)"
   ]
  },
  {
   "cell_type": "code",
   "execution_count": 117,
   "id": "487b1d2f",
   "metadata": {},
   "outputs": [
    {
     "data": {
      "text/plain": [
       "<sklearn.metrics._plot.confusion_matrix.ConfusionMatrixDisplay at 0x2808cc29670>"
      ]
     },
     "execution_count": 117,
     "metadata": {},
     "output_type": "execute_result"
    },
    {
     "data": {
      "image/png": "[encoded data removed]",
      "text/plain": [
       "<Figure size 640x480 with 2 Axes>"
      ]
     },
     "metadata": {},
     "output_type": "display_data"
    }
   ],
   "source": [
    "plot_confusion_matrix(RF,X_test,y_test)"
   ]
  },
  {
   "cell_type": "code",
   "execution_count": 118,
   "id": "d418bf17",
   "metadata": {},
   "outputs": [
    {
     "name": "stdout",
     "output_type": "stream",
     "text": [
      "              precision    recall  f1-score   support\n",
      "\n",
      "           0       0.98      1.00      0.99      1995\n",
      "           1       0.83      0.10      0.18        51\n",
      "\n",
      "    accuracy                           0.98      2046\n",
      "   macro avg       0.91      0.55      0.58      2046\n",
      "weighted avg       0.97      0.98      0.97      2046\n",
      "\n"
     ]
    }
   ],
   "source": [
    "print(classification_report(y_test,y_preddd))"
   ]
  },
  {
   "cell_type": "markdown",
   "id": "c68fdc0f",
   "metadata": {},
   "source": [
    "# SVM with default parameter"
   ]
  },
  {
   "cell_type": "code",
   "execution_count": 10,
   "id": "bceb451b",
   "metadata": {},
   "outputs": [
    {
     "name": "stdout",
     "output_type": "stream",
     "text": [
      "Accuracy Score:\n",
      "0.9706744868035191\n"
     ]
    }
   ],
   "source": [
    "from sklearn.svm import SVC     #support Vector Classifier\n",
    "from sklearn import metrics    #default kernel is rbf #radial basis function\n",
    "\n",
    "svc = SVC(random_state = 5)  #a random state is provided while instantiating a classification algorithm\n",
    "\n",
    "#model building\n",
    "svc.fit(X_train_scaled,y_train)\n",
    "\n",
    "#prediction\n",
    "y_pred = svc.predict(X_test_scaled)\n",
    "\n",
    "#evaluation\n",
    "print('Accuracy Score:')\n",
    "print(metrics.accuracy_score(y_test,y_pred))"
   ]
  },
  {
   "cell_type": "code",
   "execution_count": 11,
   "id": "550bc3d9",
   "metadata": {},
   "outputs": [
    {
     "name": "stdout",
     "output_type": "stream",
     "text": [
      "scale\n",
      "1.0\n"
     ]
    },
    {
     "data": {
      "text/plain": [
       "'rbf'"
      ]
     },
     "execution_count": 11,
     "metadata": {},
     "output_type": "execute_result"
    }
   ],
   "source": [
    "print(svc.gamma)\n",
    "print(svc.C)\n",
    "svc.kernel\n"
   ]
  },
  {
   "cell_type": "markdown",
   "id": "a14cd798",
   "metadata": {},
   "source": [
    "# SVM with Optimised parameter"
   ]
  },
  {
   "cell_type": "code",
   "execution_count": 16,
   "id": "f25e7db2",
   "metadata": {},
   "outputs": [],
   "source": [
    "tuned_parameter = {'C': [0.1, 1, 10,100],        #High C values ensure high accuracy\n",
    "              'gamma': [1, 0.1, 0.01],   #Low gamma values ensure high margins\n",
    "              'kernel': ['linear','rbf']}"
   ]
  },
  {
   "cell_type": "code",
   "execution_count": 17,
   "id": "bd28f871",
   "metadata": {},
   "outputs": [],
   "source": [
    "from sklearn.model_selection import GridSearchCV\n",
    "\n",
    "model_svm = GridSearchCV(svc,tuned_parameter,cv = 5, scoring='accuracy', \n",
    "                          n_jobs = 3)\n"
   ]
  },
  {
   "cell_type": "code",
   "execution_count": 18,
   "id": "bf0a6ca4",
   "metadata": {},
   "outputs": [
    {
     "data": {
      "text/plain": [
       "GridSearchCV(cv=5, estimator=SVC(random_state=5), n_jobs=3,\n",
       "             param_grid={'C': [0.1, 1, 10, 100], 'gamma': [1, 0.1, 0.01],\n",
       "                         'kernel': ['linear', 'rbf']},\n",
       "             scoring='accuracy')"
      ]
     },
     "execution_count": 18,
     "metadata": {},
     "output_type": "execute_result"
    }
   ],
   "source": [
    "model_svm.fit(X_train_scaled,y_train)"
   ]
  },
  {
   "cell_type": "code",
   "execution_count": 20,
   "id": "ebb02b6f",
   "metadata": {},
   "outputs": [
    {
     "name": "stdout",
     "output_type": "stream",
     "text": [
      "{'C': 10, 'gamma': 0.1, 'kernel': 'rbf'}\n"
     ]
    }
   ],
   "source": [
    "print(model_svm.best_params_)"
   ]
  },
  {
   "cell_type": "code",
   "execution_count": 21,
   "id": "c45f1395",
   "metadata": {},
   "outputs": [
    {
     "name": "stdout",
     "output_type": "stream",
     "text": [
      "Accuracy Score:\n",
      "0.9672531769305963\n"
     ]
    }
   ],
   "source": [
    "svc = SVC(kernel='rbf',C=10,gamma=0.1)\n",
    "svc.fit(X_train_scaled,y_train)\n",
    "y_pred = svc.predict(X_test_scaled)\n",
    "print('Accuracy Score:')\n",
    "print(metrics.accuracy_score(y_test,y_pred))"
   ]
  },
  {
   "cell_type": "code",
   "execution_count": 22,
   "id": "9d40a5cf",
   "metadata": {},
   "outputs": [
    {
     "name": "stdout",
     "output_type": "stream",
     "text": [
      "              precision    recall  f1-score   support\n",
      "\n",
      "           0       0.97      1.00      0.98      1985\n",
      "           1       0.20      0.03      0.06        61\n",
      "\n",
      "    accuracy                           0.97      2046\n",
      "   macro avg       0.59      0.51      0.52      2046\n",
      "weighted avg       0.95      0.97      0.96      2046\n",
      "\n"
     ]
    }
   ],
   "source": [
    "from sklearn.metrics import classification_report,roc_auc_score\n",
    "print(classification_report(y_test,y_pred))"
   ]
  },
  {
   "cell_type": "code",
   "execution_count": 23,
   "id": "84733343",
   "metadata": {},
   "outputs": [
    {
     "data": {
      "text/plain": [
       "0.5143783292728249"
      ]
     },
     "execution_count": 23,
     "metadata": {},
     "output_type": "execute_result"
    }
   ],
   "source": [
    "auc = roc_auc_score(y_test, y_pred)\n",
    "auc"
   ]
  },
  {
   "cell_type": "code",
   "execution_count": 43,
   "id": "1f541040",
   "metadata": {},
   "outputs": [],
   "source": [
    "Details={\"Logistic_Regression\":{'Accuracy':0.96,\n",
    "                               'Precision(0)':0.98,\n",
    "                               'Precision(1)':0.45,\n",
    "                               'Recall(0)': 0.99,\n",
    "                               'Recall(1)':0.26,\n",
    "                               'f1_Score':0.98,\n",
    "                               'f1_Score':0.33},\n",
    "        \"Logistic_Regression with VIF\":{'Accuracy':0.97,\n",
    "                               'Precision(0)':0.97,\n",
    "                               'Precision(1)':0.43,\n",
    "                               'Recall(0)': 0.99,\n",
    "                               'Recall(1)':0.13,\n",
    "                               'f1_Score':0.98,\n",
    "                               'f1_Score':0.20},\n",
    "        \"Decision Tree Model max_depth(4)\":{'Accuracy':0.963,\n",
    "                               'Precision(0)':0.97,\n",
    "                               'Precision(1)':0.04,\n",
    "                               'Recall(0)': 0.97,\n",
    "                               'Recall(1)':0.06,\n",
    "                               'f1_Score':0.97,\n",
    "                               'f1_Score':0.05},\n",
    "         \"Decision Tree Model max_depth(6)\":{'Accuracy':0.961,\n",
    "                               'Precision(0)':0.97,\n",
    "                               'Precision(1)':0.04,\n",
    "                               'Recall(0)': 0.97,\n",
    "                               'Recall(1)':0.06,\n",
    "                               'f1_Score':0.97,\n",
    "                               'f1_Score':0.05},\n",
    "         \"Decision Tree Model max_depth(8)\":{'Accuracy':0.965,\n",
    "                               'Precision(0)':0.98,\n",
    "                               'Precision(1)':0.32,\n",
    "                               'Recall(0)': 0.98,\n",
    "                               'Recall(1)':0.28,\n",
    "                               'f1_Score':0.98,\n",
    "                               'f1_Score':0.30},\n",
    "         \"Random Forest\":{'Accuracy':0.98,\n",
    "                               'Precision(0)':0.98,\n",
    "                               'Precision(1)':0.61,\n",
    "                               'Recall(0)': 1,\n",
    "                               'Recall(1)':0.21,\n",
    "                               'f1_Score':0.99,\n",
    "                               'f1_Score':0.31},\n",
    "         \"Decision Tree when PCA applied\":{'Accuracy':0.96,\n",
    "                               'Precision(0)':0.97,\n",
    "                               'Precision(1)':0.29,\n",
    "                               'Recall(0)': 0.98,\n",
    "                               'Recall(1)':0.21,\n",
    "                               'f1_Score':0.98,\n",
    "                               'f1_Score':0.24},\n",
    "         \"Random Forest when PCA applied\":{'Accuracy':0.98,\n",
    "                               'Precision(0)':0.98,\n",
    "                               'Precision(1)':0.83,\n",
    "                               'Recall(0)': 1,\n",
    "                               'Recall(1)':0.1,\n",
    "                               'f1_Score':0.99,\n",
    "                               'f1_Score':0.18},\n",
    "        \"SVM\":{'Accuracy':0.97,\n",
    "                               'Precision(0)':0.97,\n",
    "                               'Precision(1)':0.20,\n",
    "                               'Recall(0)': 1.0,\n",
    "                               'Recall(1)':0.03,\n",
    "                               'f1_Score':0.98,\n",
    "                               'f1_Score':0.06}}"
   ]
  },
  {
   "cell_type": "code",
   "execution_count": 44,
   "id": "86ec9f01",
   "metadata": {},
   "outputs": [
    {
     "data": {
      "text/html": [
       "<div>\n",
       "<style scoped>\n",
       "    .dataframe tbody tr th:only-of-type {\n",
       "        vertical-align: middle;\n",
       "    }\n",
       "\n",
       "    .dataframe tbody tr th {\n",
       "        vertical-align: top;\n",
       "    }\n",
       "\n",
       "    .dataframe thead th {\n",
       "        text-align: right;\n",
       "    }\n",
       "</style>\n",
       "<table border=\"1\" class=\"dataframe\">\n",
       "  <thead>\n",
       "    <tr style=\"text-align: right;\">\n",
       "      <th></th>\n",
       "      <th>Logistic_Regression</th>\n",
       "      <th>Logistic_Regression with VIF</th>\n",
       "      <th>Decision Tree Model max_depth(4)</th>\n",
       "      <th>Decision Tree Model max_depth(6)</th>\n",
       "      <th>Decision Tree Model max_depth(8)</th>\n",
       "      <th>Random Forest</th>\n",
       "      <th>Decision Tree when PCA applied</th>\n",
       "      <th>Random Forest when PCA applied</th>\n",
       "      <th>SVM</th>\n",
       "    </tr>\n",
       "  </thead>\n",
       "  <tbody>\n",
       "    <tr>\n",
       "      <th>Accuracy</th>\n",
       "      <td>0.96</td>\n",
       "      <td>0.97</td>\n",
       "      <td>0.963</td>\n",
       "      <td>0.961</td>\n",
       "      <td>0.965</td>\n",
       "      <td>0.98</td>\n",
       "      <td>0.96</td>\n",
       "      <td>0.98</td>\n",
       "      <td>0.97</td>\n",
       "    </tr>\n",
       "    <tr>\n",
       "      <th>Precision(0)</th>\n",
       "      <td>0.98</td>\n",
       "      <td>0.97</td>\n",
       "      <td>0.970</td>\n",
       "      <td>0.970</td>\n",
       "      <td>0.980</td>\n",
       "      <td>0.98</td>\n",
       "      <td>0.97</td>\n",
       "      <td>0.98</td>\n",
       "      <td>0.97</td>\n",
       "    </tr>\n",
       "    <tr>\n",
       "      <th>Precision(1)</th>\n",
       "      <td>0.45</td>\n",
       "      <td>0.43</td>\n",
       "      <td>0.040</td>\n",
       "      <td>0.040</td>\n",
       "      <td>0.320</td>\n",
       "      <td>0.61</td>\n",
       "      <td>0.29</td>\n",
       "      <td>0.83</td>\n",
       "      <td>0.20</td>\n",
       "    </tr>\n",
       "    <tr>\n",
       "      <th>Recall(0)</th>\n",
       "      <td>0.99</td>\n",
       "      <td>0.99</td>\n",
       "      <td>0.970</td>\n",
       "      <td>0.970</td>\n",
       "      <td>0.980</td>\n",
       "      <td>1.00</td>\n",
       "      <td>0.98</td>\n",
       "      <td>1.00</td>\n",
       "      <td>1.00</td>\n",
       "    </tr>\n",
       "    <tr>\n",
       "      <th>Recall(1)</th>\n",
       "      <td>0.26</td>\n",
       "      <td>0.13</td>\n",
       "      <td>0.060</td>\n",
       "      <td>0.060</td>\n",
       "      <td>0.280</td>\n",
       "      <td>0.21</td>\n",
       "      <td>0.21</td>\n",
       "      <td>0.10</td>\n",
       "      <td>0.03</td>\n",
       "    </tr>\n",
       "    <tr>\n",
       "      <th>f1_Score</th>\n",
       "      <td>0.33</td>\n",
       "      <td>0.20</td>\n",
       "      <td>0.050</td>\n",
       "      <td>0.050</td>\n",
       "      <td>0.300</td>\n",
       "      <td>0.31</td>\n",
       "      <td>0.24</td>\n",
       "      <td>0.18</td>\n",
       "      <td>0.06</td>\n",
       "    </tr>\n",
       "  </tbody>\n",
       "</table>\n",
       "</div>"
      ],
      "text/plain": [
       "              Logistic_Regression  Logistic_Regression with VIF  \\\n",
       "Accuracy                     0.96                          0.97   \n",
       "Precision(0)                 0.98                          0.97   \n",
       "Precision(1)                 0.45                          0.43   \n",
       "Recall(0)                    0.99                          0.99   \n",
       "Recall(1)                    0.26                          0.13   \n",
       "f1_Score                     0.33                          0.20   \n",
       "\n",
       "              Decision Tree Model max_depth(4)  \\\n",
       "Accuracy                                 0.963   \n",
       "Precision(0)                             0.970   \n",
       "Precision(1)                             0.040   \n",
       "Recall(0)                                0.970   \n",
       "Recall(1)                                0.060   \n",
       "f1_Score                                 0.050   \n",
       "\n",
       "              Decision Tree Model max_depth(6)  \\\n",
       "Accuracy                                 0.961   \n",
       "Precision(0)                             0.970   \n",
       "Precision(1)                             0.040   \n",
       "Recall(0)                                0.970   \n",
       "Recall(1)                                0.060   \n",
       "f1_Score                                 0.050   \n",
       "\n",
       "              Decision Tree Model max_depth(8)  Random Forest  \\\n",
       "Accuracy                                 0.965           0.98   \n",
       "Precision(0)                             0.980           0.98   \n",
       "Precision(1)                             0.320           0.61   \n",
       "Recall(0)                                0.980           1.00   \n",
       "Recall(1)                                0.280           0.21   \n",
       "f1_Score                                 0.300           0.31   \n",
       "\n",
       "              Decision Tree when PCA applied  Random Forest when PCA applied  \\\n",
       "Accuracy                                0.96                            0.98   \n",
       "Precision(0)                            0.97                            0.98   \n",
       "Precision(1)                            0.29                            0.83   \n",
       "Recall(0)                               0.98                            1.00   \n",
       "Recall(1)                               0.21                            0.10   \n",
       "f1_Score                                0.24                            0.18   \n",
       "\n",
       "               SVM  \n",
       "Accuracy      0.97  \n",
       "Precision(0)  0.97  \n",
       "Precision(1)  0.20  \n",
       "Recall(0)     1.00  \n",
       "Recall(1)     0.03  \n",
       "f1_Score      0.06  "
      ]
     },
     "execution_count": 44,
     "metadata": {},
     "output_type": "execute_result"
    }
   ],
   "source": [
    "pd.DataFrame(Details)"
   ]
  },
  {
   "cell_type": "code",
   "execution_count": 124,
   "id": "540c6ca6",
   "metadata": {},
   "outputs": [],
   "source": [
    "## Logistic regression with hypertuning"
   ]
  },
  {
   "cell_type": "code",
   "execution_count": 125,
   "id": "72bd785c",
   "metadata": {},
   "outputs": [],
   "source": [
    "param_grid = [    \n",
    "    {'penalty' : ['l1', 'l2', 'elasticnet'],\n",
    "    'C' : np.logspace(-4, 4, 20),\n",
    "    'solver' : ['lbfgs','newton-cg','liblinear'],\n",
    "    'max_iter' : [500, 1000, 1500]\n",
    "    }\n",
    "]\n"
   ]
  },
  {
   "cell_type": "code",
   "execution_count": 126,
   "id": "2c794c06",
   "metadata": {},
   "outputs": [],
   "source": [
    "gsc = GridSearchCV(lr, param_grid = param_grid, cv = 5,verbose=True, n_jobs=3)"
   ]
  },
  {
   "cell_type": "code",
   "execution_count": null,
   "id": "2f56e9a6",
   "metadata": {},
   "outputs": [
    {
     "name": "stdout",
     "output_type": "stream",
     "text": [
      "Fitting 5 folds for each of 540 candidates, totalling 2700 fits\n"
     ]
    }
   ],
   "source": [
    "tuned_model = gsc.fit(X_train_scaledN,y_train)\n",
    "print(gsc.best_params_)"
   ]
  },
  {
   "cell_type": "code",
   "execution_count": null,
   "id": "1732b716",
   "metadata": {},
   "outputs": [],
   "source": [
    "lr_finetuned = lr.set_params(C = 0.0001, \n",
    "                             max_iter = 500,\n",
    "                             penalty = 'l1',\n",
    "                             solver = 'liblinear')\n",
    "model_final = lr_finetuned.fit(X_train_scaledN, y_trainN)"
   ]
  },
  {
   "cell_type": "code",
   "execution_count": 121,
   "id": "13ab0ac8",
   "metadata": {},
   "outputs": [
    {
     "name": "stdout",
     "output_type": "stream",
     "text": [
      "0.969208211143695\n",
      "              precision    recall  f1-score   support\n",
      "\n",
      "           0       0.97      1.00      0.98      1983\n",
      "           1       0.00      0.00      0.00        63\n",
      "\n",
      "    accuracy                           0.97      2046\n",
      "   macro avg       0.48      0.50      0.49      2046\n",
      "weighted avg       0.94      0.97      0.95      2046\n",
      "\n"
     ]
    }
   ],
   "source": [
    "y_pred = model_final.predict(X_test_scaledN)\n",
    "print(accuracy_score(y_testN,y_pred))\n",
    "print(classification_report(y_testN,y_pred))"
   ]
  },
  {
   "cell_type": "code",
   "execution_count": null,
   "id": "83c81d8d",
   "metadata": {},
   "outputs": [],
   "source": []
  },
  {
   "cell_type": "code",
   "execution_count": null,
   "id": "5b7cd42f",
   "metadata": {},
   "outputs": [],
   "source": []
  }
 ],
 "metadata": {
  "kernelspec": {
   "display_name": "Python 3 (ipykernel)",
   "language": "python",
   "name": "python3"
  },
  "language_info": {
   "codemirror_mode": {
    "name": "ipython",
    "version": 3
   },
   "file_extension": ".py",
   "mimetype": "text/x-python",
   "name": "python",
   "nbconvert_exporter": "python",
   "pygments_lexer": "ipython3",
   "version": "3.9.13"
  }
 },
 "nbformat": 4,
 "nbformat_minor": 5
}
